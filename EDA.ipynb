{
 "cells": [
  {
   "cell_type": "code",
   "execution_count": 85,
   "id": "731735e1",
   "metadata": {},
   "outputs": [],
   "source": [
    "import pandas as pd\n",
    "import matplotlib.pyplot as plt"
   ]
  },
  {
   "cell_type": "code",
   "execution_count": 45,
   "id": "805149b4",
   "metadata": {},
   "outputs": [],
   "source": [
    "Puritan_Pride = pd.read_csv(\"B00K8K937I_Puritan'sPrideSuperStrengthRapidReleaseCapsules Melatonin.csv\")"
   ]
  },
  {
   "cell_type": "code",
   "execution_count": 46,
   "id": "e0b73d3e",
   "metadata": {},
   "outputs": [],
   "source": [
    "pd.set_option('display.max_colwidth', None)"
   ]
  },
  {
   "cell_type": "code",
   "execution_count": 47,
   "id": "43bc2210",
   "metadata": {},
   "outputs": [],
   "source": [
    "columns_to_drop = [\n",
    "    \"author_badge\", \n",
    "    \"reviewed_product_attribute\",\n",
    "    \"review_comment_count\",\n",
    "    'asin',\n",
    "    'review_author', \n",
    "    'reviewed_variant_asin', \n",
    "    'variant_review_url',  \n",
    "    \"author_profile_url\", \n",
    "    \"url\",\n",
    "    \"review_url\", \n",
    "    \"input\",\n",
    "    \"reviewed_country\", \n",
    "    \"review_text\", \n",
    "    \"review_header\"\n",
    "]"
   ]
  },
  {
   "cell_type": "code",
   "execution_count": null,
   "id": "5e392eaa",
   "metadata": {},
   "outputs": [],
   "source": []
  },
  {
   "cell_type": "code",
   "execution_count": null,
   "id": "df697c52",
   "metadata": {},
   "outputs": [],
   "source": []
  },
  {
   "cell_type": "code",
   "execution_count": null,
   "id": "b12bd18d",
   "metadata": {},
   "outputs": [],
   "source": []
  },
  {
   "cell_type": "code",
   "execution_count": 51,
   "id": "60713e6a",
   "metadata": {},
   "outputs": [],
   "source": [
    "Natrol = pd.read_csv(\"B079TD7HG2_NatrolMelatoninSleepAidGummy.csv\")"
   ]
  },
  {
   "cell_type": "code",
   "execution_count": 52,
   "id": "7dbb7abd",
   "metadata": {
    "scrolled": true
   },
   "outputs": [],
   "source": [
    "Natrol = Natrol.drop(columns=columns_to_drop)\n",
    "Natrol = Natrol[Natrol[\"badge\"]== \"Verified Purchase\"]"
   ]
  },
  {
   "cell_type": "code",
   "execution_count": 53,
   "id": "160cab48",
   "metadata": {},
   "outputs": [],
   "source": [
    "Natrol['doses'] = '10mg'"
   ]
  },
  {
   "cell_type": "code",
   "execution_count": 54,
   "id": "2eeafc06",
   "metadata": {
    "scrolled": true
   },
   "outputs": [
    {
     "data": {
      "text/html": [
       "<div>\n",
       "<style scoped>\n",
       "    .dataframe tbody tr th:only-of-type {\n",
       "        vertical-align: middle;\n",
       "    }\n",
       "\n",
       "    .dataframe tbody tr th {\n",
       "        vertical-align: top;\n",
       "    }\n",
       "\n",
       "    .dataframe thead th {\n",
       "        text-align: right;\n",
       "    }\n",
       "</style>\n",
       "<table border=\"1\" class=\"dataframe\">\n",
       "  <thead>\n",
       "    <tr style=\"text-align: right;\">\n",
       "      <th></th>\n",
       "      <th>product_title</th>\n",
       "      <th>average_rating</th>\n",
       "      <th>total_reviews</th>\n",
       "      <th>badge</th>\n",
       "      <th>review_rating</th>\n",
       "      <th>review_date</th>\n",
       "      <th>no_of_people_reacted_helpful</th>\n",
       "      <th>brand</th>\n",
       "      <th>doses</th>\n",
       "    </tr>\n",
       "  </thead>\n",
       "  <tbody>\n",
       "    <tr>\n",
       "      <th>0</th>\n",
       "      <td>Natrol Melatonin Sleep Aid Gummy, Fall Asleep Faster, Stay Asleep Longer, 2 Gummies Per Serving, Drug Free and Gelatin Free, 10mg, 90 Strawberry Flavored Gummies</td>\n",
       "      <td>4.7</td>\n",
       "      <td>2749</td>\n",
       "      <td>Verified Purchase</td>\n",
       "      <td>3</td>\n",
       "      <td>11-Dec-19</td>\n",
       "      <td>NaN</td>\n",
       "      <td>Natrol</td>\n",
       "      <td>10mg</td>\n",
       "    </tr>\n",
       "    <tr>\n",
       "      <th>2</th>\n",
       "      <td>Natrol Melatonin Sleep Aid Gummy, Fall Asleep Faster, Stay Asleep Longer, 2 Gummies Per Serving, Drug Free and Gelatin Free, 10mg, 90 Strawberry Flavored Gummies</td>\n",
       "      <td>4.7</td>\n",
       "      <td>2749</td>\n",
       "      <td>Verified Purchase</td>\n",
       "      <td>5</td>\n",
       "      <td>21-May-21</td>\n",
       "      <td>NaN</td>\n",
       "      <td>Natrol</td>\n",
       "      <td>10mg</td>\n",
       "    </tr>\n",
       "    <tr>\n",
       "      <th>3</th>\n",
       "      <td>Natrol Melatonin Sleep Aid Gummy, Fall Asleep Faster, Stay Asleep Longer, 2 Gummies Per Serving, Drug Free and Gelatin Free, 10mg, 90 Strawberry Flavored Gummies</td>\n",
       "      <td>4.7</td>\n",
       "      <td>2749</td>\n",
       "      <td>Verified Purchase</td>\n",
       "      <td>2</td>\n",
       "      <td>13-Dec-20</td>\n",
       "      <td>NaN</td>\n",
       "      <td>Natrol</td>\n",
       "      <td>10mg</td>\n",
       "    </tr>\n",
       "    <tr>\n",
       "      <th>4</th>\n",
       "      <td>Natrol Melatonin Sleep Aid Gummy, Fall Asleep Faster, Stay Asleep Longer, 2 Gummies Per Serving, Drug Free and Gelatin Free, 10mg, 90 Strawberry Flavored Gummies</td>\n",
       "      <td>4.7</td>\n",
       "      <td>2749</td>\n",
       "      <td>Verified Purchase</td>\n",
       "      <td>1</td>\n",
       "      <td>20-Jul-20</td>\n",
       "      <td>1.0</td>\n",
       "      <td>Natrol</td>\n",
       "      <td>10mg</td>\n",
       "    </tr>\n",
       "    <tr>\n",
       "      <th>5</th>\n",
       "      <td>Natrol Melatonin Sleep Aid Gummy, Fall Asleep Faster, Stay Asleep Longer, 2 Gummies Per Serving, Drug Free and Gelatin Free, 10mg, 90 Strawberry Flavored Gummies</td>\n",
       "      <td>4.7</td>\n",
       "      <td>2749</td>\n",
       "      <td>Verified Purchase</td>\n",
       "      <td>5</td>\n",
       "      <td>28-Jul-19</td>\n",
       "      <td>NaN</td>\n",
       "      <td>Natrol</td>\n",
       "      <td>10mg</td>\n",
       "    </tr>\n",
       "  </tbody>\n",
       "</table>\n",
       "</div>"
      ],
      "text/plain": [
       "                                                                                                                                                       product_title  \\\n",
       "0  Natrol Melatonin Sleep Aid Gummy, Fall Asleep Faster, Stay Asleep Longer, 2 Gummies Per Serving, Drug Free and Gelatin Free, 10mg, 90 Strawberry Flavored Gummies   \n",
       "2  Natrol Melatonin Sleep Aid Gummy, Fall Asleep Faster, Stay Asleep Longer, 2 Gummies Per Serving, Drug Free and Gelatin Free, 10mg, 90 Strawberry Flavored Gummies   \n",
       "3  Natrol Melatonin Sleep Aid Gummy, Fall Asleep Faster, Stay Asleep Longer, 2 Gummies Per Serving, Drug Free and Gelatin Free, 10mg, 90 Strawberry Flavored Gummies   \n",
       "4  Natrol Melatonin Sleep Aid Gummy, Fall Asleep Faster, Stay Asleep Longer, 2 Gummies Per Serving, Drug Free and Gelatin Free, 10mg, 90 Strawberry Flavored Gummies   \n",
       "5  Natrol Melatonin Sleep Aid Gummy, Fall Asleep Faster, Stay Asleep Longer, 2 Gummies Per Serving, Drug Free and Gelatin Free, 10mg, 90 Strawberry Flavored Gummies   \n",
       "\n",
       "   average_rating  total_reviews              badge  review_rating  \\\n",
       "0             4.7           2749  Verified Purchase              3   \n",
       "2             4.7           2749  Verified Purchase              5   \n",
       "3             4.7           2749  Verified Purchase              2   \n",
       "4             4.7           2749  Verified Purchase              1   \n",
       "5             4.7           2749  Verified Purchase              5   \n",
       "\n",
       "  review_date  no_of_people_reacted_helpful   brand doses  \n",
       "0   11-Dec-19                           NaN  Natrol  10mg  \n",
       "2   21-May-21                           NaN  Natrol  10mg  \n",
       "3   13-Dec-20                           NaN  Natrol  10mg  \n",
       "4   20-Jul-20                           1.0  Natrol  10mg  \n",
       "5   28-Jul-19                           NaN  Natrol  10mg  "
      ]
     },
     "execution_count": 54,
     "metadata": {},
     "output_type": "execute_result"
    }
   ],
   "source": [
    "Natrol.head()"
   ]
  },
  {
   "cell_type": "code",
   "execution_count": 126,
   "id": "cc9e3826",
   "metadata": {},
   "outputs": [
    {
     "data": {
      "text/html": [
       "<div>\n",
       "<style scoped>\n",
       "    .dataframe tbody tr th:only-of-type {\n",
       "        vertical-align: middle;\n",
       "    }\n",
       "\n",
       "    .dataframe tbody tr th {\n",
       "        vertical-align: top;\n",
       "    }\n",
       "\n",
       "    .dataframe thead th {\n",
       "        text-align: right;\n",
       "    }\n",
       "</style>\n",
       "<table border=\"1\" class=\"dataframe\">\n",
       "  <thead>\n",
       "    <tr style=\"text-align: right;\">\n",
       "      <th></th>\n",
       "      <th>average_rating</th>\n",
       "      <th>total_reviews</th>\n",
       "      <th>review_rating</th>\n",
       "      <th>no_of_people_reacted_helpful</th>\n",
       "    </tr>\n",
       "  </thead>\n",
       "  <tbody>\n",
       "    <tr>\n",
       "      <th>count</th>\n",
       "      <td>2.574000e+03</td>\n",
       "      <td>2574.0</td>\n",
       "      <td>2574.000000</td>\n",
       "      <td>536.000000</td>\n",
       "    </tr>\n",
       "    <tr>\n",
       "      <th>mean</th>\n",
       "      <td>4.700000e+00</td>\n",
       "      <td>2749.0</td>\n",
       "      <td>4.128594</td>\n",
       "      <td>4.774254</td>\n",
       "    </tr>\n",
       "    <tr>\n",
       "      <th>std</th>\n",
       "      <td>1.483546e-13</td>\n",
       "      <td>0.0</td>\n",
       "      <td>1.468206</td>\n",
       "      <td>24.611208</td>\n",
       "    </tr>\n",
       "    <tr>\n",
       "      <th>min</th>\n",
       "      <td>4.700000e+00</td>\n",
       "      <td>2749.0</td>\n",
       "      <td>1.000000</td>\n",
       "      <td>1.000000</td>\n",
       "    </tr>\n",
       "    <tr>\n",
       "      <th>25%</th>\n",
       "      <td>4.700000e+00</td>\n",
       "      <td>2749.0</td>\n",
       "      <td>4.000000</td>\n",
       "      <td>1.000000</td>\n",
       "    </tr>\n",
       "    <tr>\n",
       "      <th>50%</th>\n",
       "      <td>4.700000e+00</td>\n",
       "      <td>2749.0</td>\n",
       "      <td>5.000000</td>\n",
       "      <td>1.000000</td>\n",
       "    </tr>\n",
       "    <tr>\n",
       "      <th>75%</th>\n",
       "      <td>4.700000e+00</td>\n",
       "      <td>2749.0</td>\n",
       "      <td>5.000000</td>\n",
       "      <td>3.000000</td>\n",
       "    </tr>\n",
       "    <tr>\n",
       "      <th>max</th>\n",
       "      <td>4.700000e+00</td>\n",
       "      <td>2749.0</td>\n",
       "      <td>5.000000</td>\n",
       "      <td>455.000000</td>\n",
       "    </tr>\n",
       "  </tbody>\n",
       "</table>\n",
       "</div>"
      ],
      "text/plain": [
       "       average_rating  total_reviews  review_rating  \\\n",
       "count    2.574000e+03         2574.0    2574.000000   \n",
       "mean     4.700000e+00         2749.0       4.128594   \n",
       "std      1.483546e-13            0.0       1.468206   \n",
       "min      4.700000e+00         2749.0       1.000000   \n",
       "25%      4.700000e+00         2749.0       4.000000   \n",
       "50%      4.700000e+00         2749.0       5.000000   \n",
       "75%      4.700000e+00         2749.0       5.000000   \n",
       "max      4.700000e+00         2749.0       5.000000   \n",
       "\n",
       "       no_of_people_reacted_helpful  \n",
       "count                    536.000000  \n",
       "mean                       4.774254  \n",
       "std                       24.611208  \n",
       "min                        1.000000  \n",
       "25%                        1.000000  \n",
       "50%                        1.000000  \n",
       "75%                        3.000000  \n",
       "max                      455.000000  "
      ]
     },
     "execution_count": 126,
     "metadata": {},
     "output_type": "execute_result"
    }
   ],
   "source": [
    "Natrol.describe()"
   ]
  },
  {
   "cell_type": "code",
   "execution_count": 56,
   "id": "01377aa1",
   "metadata": {},
   "outputs": [
    {
     "data": {
      "text/plain": [
       "<AxesSubplot:>"
      ]
     },
     "execution_count": 56,
     "metadata": {},
     "output_type": "execute_result"
    },
    {
     "data": {
      "image/png": "[encoded data removed]",
      "text/plain": [
       "<Figure size 640x480 with 1 Axes>"
      ]
     },
     "metadata": {},
     "output_type": "display_data"
    }
   ],
   "source": [
    "Natrol[\"review_rating\"].value_counts().plot(kind=\"bar\")"
   ]
  },
  {
   "cell_type": "code",
   "execution_count": null,
   "id": "6d74f3e4",
   "metadata": {},
   "outputs": [],
   "source": []
  },
  {
   "cell_type": "code",
   "execution_count": null,
   "id": "ff5a2801",
   "metadata": {},
   "outputs": [],
   "source": []
  },
  {
   "cell_type": "code",
   "execution_count": null,
   "id": "9ec0d44b",
   "metadata": {},
   "outputs": [],
   "source": []
  },
  {
   "cell_type": "code",
   "execution_count": null,
   "id": "2e5393b7",
   "metadata": {},
   "outputs": [],
   "source": []
  },
  {
   "cell_type": "code",
   "execution_count": 7,
   "id": "d68bdbee",
   "metadata": {},
   "outputs": [
    {
     "ename": "FileNotFoundError",
     "evalue": "[Errno 2] No such file or directory: 'B07PF1SN5B_vitafusionMaxStrengthMelatoninGummySupplements.csv'",
     "output_type": "error",
     "traceback": [
      "\u001b[0;31m---------------------------------------------------------------------------\u001b[0m",
      "\u001b[0;31mFileNotFoundError\u001b[0m                         Traceback (most recent call last)",
      "\u001b[0;32m/var/folders/55/6zmgdc_d7q526rnkxvcdm7_40000gn/T/ipykernel_71917/367095167.py\u001b[0m in \u001b[0;36m<module>\u001b[0;34m\u001b[0m\n\u001b[0;32m----> 1\u001b[0;31m \u001b[0mVitafusion\u001b[0m \u001b[0;34m=\u001b[0m \u001b[0mpd\u001b[0m\u001b[0;34m.\u001b[0m\u001b[0mread_csv\u001b[0m\u001b[0;34m(\u001b[0m\u001b[0;34m\"B07PF1SN5B_vitafusionMaxStrengthMelatoninGummySupplements.csv\"\u001b[0m\u001b[0;34m)\u001b[0m\u001b[0;34m\u001b[0m\u001b[0;34m\u001b[0m\u001b[0m\n\u001b[0m",
      "\u001b[0;32m~/opt/anaconda3/lib/python3.9/site-packages/pandas/util/_decorators.py\u001b[0m in \u001b[0;36mwrapper\u001b[0;34m(*args, **kwargs)\u001b[0m\n\u001b[1;32m    309\u001b[0m                     \u001b[0mstacklevel\u001b[0m\u001b[0;34m=\u001b[0m\u001b[0mstacklevel\u001b[0m\u001b[0;34m,\u001b[0m\u001b[0;34m\u001b[0m\u001b[0;34m\u001b[0m\u001b[0m\n\u001b[1;32m    310\u001b[0m                 )\n\u001b[0;32m--> 311\u001b[0;31m             \u001b[0;32mreturn\u001b[0m \u001b[0mfunc\u001b[0m\u001b[0;34m(\u001b[0m\u001b[0;34m*\u001b[0m\u001b[0margs\u001b[0m\u001b[0;34m,\u001b[0m \u001b[0;34m**\u001b[0m\u001b[0mkwargs\u001b[0m\u001b[0;34m)\u001b[0m\u001b[0;34m\u001b[0m\u001b[0;34m\u001b[0m\u001b[0m\n\u001b[0m\u001b[1;32m    312\u001b[0m \u001b[0;34m\u001b[0m\u001b[0m\n\u001b[1;32m    313\u001b[0m         \u001b[0;32mreturn\u001b[0m \u001b[0mwrapper\u001b[0m\u001b[0;34m\u001b[0m\u001b[0;34m\u001b[0m\u001b[0m\n",
      "\u001b[0;32m~/opt/anaconda3/lib/python3.9/site-packages/pandas/io/parsers/readers.py\u001b[0m in \u001b[0;36mread_csv\u001b[0;34m(filepath_or_buffer, sep, delimiter, header, names, index_col, usecols, squeeze, prefix, mangle_dupe_cols, dtype, engine, converters, true_values, false_values, skipinitialspace, skiprows, skipfooter, nrows, na_values, keep_default_na, na_filter, verbose, skip_blank_lines, parse_dates, infer_datetime_format, keep_date_col, date_parser, dayfirst, cache_dates, iterator, chunksize, compression, thousands, decimal, lineterminator, quotechar, quoting, doublequote, escapechar, comment, encoding, encoding_errors, dialect, error_bad_lines, warn_bad_lines, on_bad_lines, delim_whitespace, low_memory, memory_map, float_precision, storage_options)\u001b[0m\n\u001b[1;32m    676\u001b[0m     \u001b[0mkwds\u001b[0m\u001b[0;34m.\u001b[0m\u001b[0mupdate\u001b[0m\u001b[0;34m(\u001b[0m\u001b[0mkwds_defaults\u001b[0m\u001b[0;34m)\u001b[0m\u001b[0;34m\u001b[0m\u001b[0;34m\u001b[0m\u001b[0m\n\u001b[1;32m    677\u001b[0m \u001b[0;34m\u001b[0m\u001b[0m\n\u001b[0;32m--> 678\u001b[0;31m     \u001b[0;32mreturn\u001b[0m \u001b[0m_read\u001b[0m\u001b[0;34m(\u001b[0m\u001b[0mfilepath_or_buffer\u001b[0m\u001b[0;34m,\u001b[0m \u001b[0mkwds\u001b[0m\u001b[0;34m)\u001b[0m\u001b[0;34m\u001b[0m\u001b[0;34m\u001b[0m\u001b[0m\n\u001b[0m\u001b[1;32m    679\u001b[0m \u001b[0;34m\u001b[0m\u001b[0m\n\u001b[1;32m    680\u001b[0m \u001b[0;34m\u001b[0m\u001b[0m\n",
      "\u001b[0;32m~/opt/anaconda3/lib/python3.9/site-packages/pandas/io/parsers/readers.py\u001b[0m in \u001b[0;36m_read\u001b[0;34m(filepath_or_buffer, kwds)\u001b[0m\n\u001b[1;32m    573\u001b[0m \u001b[0;34m\u001b[0m\u001b[0m\n\u001b[1;32m    574\u001b[0m     \u001b[0;31m# Create the parser.\u001b[0m\u001b[0;34m\u001b[0m\u001b[0;34m\u001b[0m\u001b[0m\n\u001b[0;32m--> 575\u001b[0;31m     \u001b[0mparser\u001b[0m \u001b[0;34m=\u001b[0m \u001b[0mTextFileReader\u001b[0m\u001b[0;34m(\u001b[0m\u001b[0mfilepath_or_buffer\u001b[0m\u001b[0;34m,\u001b[0m \u001b[0;34m**\u001b[0m\u001b[0mkwds\u001b[0m\u001b[0;34m)\u001b[0m\u001b[0;34m\u001b[0m\u001b[0;34m\u001b[0m\u001b[0m\n\u001b[0m\u001b[1;32m    576\u001b[0m \u001b[0;34m\u001b[0m\u001b[0m\n\u001b[1;32m    577\u001b[0m     \u001b[0;32mif\u001b[0m \u001b[0mchunksize\u001b[0m \u001b[0;32mor\u001b[0m \u001b[0miterator\u001b[0m\u001b[0;34m:\u001b[0m\u001b[0;34m\u001b[0m\u001b[0;34m\u001b[0m\u001b[0m\n",
      "\u001b[0;32m~/opt/anaconda3/lib/python3.9/site-packages/pandas/io/parsers/readers.py\u001b[0m in \u001b[0;36m__init__\u001b[0;34m(self, f, engine, **kwds)\u001b[0m\n\u001b[1;32m    930\u001b[0m \u001b[0;34m\u001b[0m\u001b[0m\n\u001b[1;32m    931\u001b[0m         \u001b[0mself\u001b[0m\u001b[0;34m.\u001b[0m\u001b[0mhandles\u001b[0m\u001b[0;34m:\u001b[0m \u001b[0mIOHandles\u001b[0m \u001b[0;34m|\u001b[0m \u001b[0;32mNone\u001b[0m \u001b[0;34m=\u001b[0m \u001b[0;32mNone\u001b[0m\u001b[0;34m\u001b[0m\u001b[0;34m\u001b[0m\u001b[0m\n\u001b[0;32m--> 932\u001b[0;31m         \u001b[0mself\u001b[0m\u001b[0;34m.\u001b[0m\u001b[0m_engine\u001b[0m \u001b[0;34m=\u001b[0m \u001b[0mself\u001b[0m\u001b[0;34m.\u001b[0m\u001b[0m_make_engine\u001b[0m\u001b[0;34m(\u001b[0m\u001b[0mf\u001b[0m\u001b[0;34m,\u001b[0m \u001b[0mself\u001b[0m\u001b[0;34m.\u001b[0m\u001b[0mengine\u001b[0m\u001b[0;34m)\u001b[0m\u001b[0;34m\u001b[0m\u001b[0;34m\u001b[0m\u001b[0m\n\u001b[0m\u001b[1;32m    933\u001b[0m \u001b[0;34m\u001b[0m\u001b[0m\n\u001b[1;32m    934\u001b[0m     \u001b[0;32mdef\u001b[0m \u001b[0mclose\u001b[0m\u001b[0;34m(\u001b[0m\u001b[0mself\u001b[0m\u001b[0;34m)\u001b[0m\u001b[0;34m:\u001b[0m\u001b[0;34m\u001b[0m\u001b[0;34m\u001b[0m\u001b[0m\n",
      "\u001b[0;32m~/opt/anaconda3/lib/python3.9/site-packages/pandas/io/parsers/readers.py\u001b[0m in \u001b[0;36m_make_engine\u001b[0;34m(self, f, engine)\u001b[0m\n\u001b[1;32m   1214\u001b[0m             \u001b[0;31m# \"Union[str, PathLike[str], ReadCsvBuffer[bytes], ReadCsvBuffer[str]]\"\u001b[0m\u001b[0;34m\u001b[0m\u001b[0;34m\u001b[0m\u001b[0m\n\u001b[1;32m   1215\u001b[0m             \u001b[0;31m# , \"str\", \"bool\", \"Any\", \"Any\", \"Any\", \"Any\", \"Any\"\u001b[0m\u001b[0;34m\u001b[0m\u001b[0;34m\u001b[0m\u001b[0m\n\u001b[0;32m-> 1216\u001b[0;31m             self.handles = get_handle(  # type: ignore[call-overload]\n\u001b[0m\u001b[1;32m   1217\u001b[0m                 \u001b[0mf\u001b[0m\u001b[0;34m,\u001b[0m\u001b[0;34m\u001b[0m\u001b[0;34m\u001b[0m\u001b[0m\n\u001b[1;32m   1218\u001b[0m                 \u001b[0mmode\u001b[0m\u001b[0;34m,\u001b[0m\u001b[0;34m\u001b[0m\u001b[0;34m\u001b[0m\u001b[0m\n",
      "\u001b[0;32m~/opt/anaconda3/lib/python3.9/site-packages/pandas/io/common.py\u001b[0m in \u001b[0;36mget_handle\u001b[0;34m(path_or_buf, mode, encoding, compression, memory_map, is_text, errors, storage_options)\u001b[0m\n\u001b[1;32m    784\u001b[0m         \u001b[0;32mif\u001b[0m \u001b[0mioargs\u001b[0m\u001b[0;34m.\u001b[0m\u001b[0mencoding\u001b[0m \u001b[0;32mand\u001b[0m \u001b[0;34m\"b\"\u001b[0m \u001b[0;32mnot\u001b[0m \u001b[0;32min\u001b[0m \u001b[0mioargs\u001b[0m\u001b[0;34m.\u001b[0m\u001b[0mmode\u001b[0m\u001b[0;34m:\u001b[0m\u001b[0;34m\u001b[0m\u001b[0;34m\u001b[0m\u001b[0m\n\u001b[1;32m    785\u001b[0m             \u001b[0;31m# Encoding\u001b[0m\u001b[0;34m\u001b[0m\u001b[0;34m\u001b[0m\u001b[0m\n\u001b[0;32m--> 786\u001b[0;31m             handle = open(\n\u001b[0m\u001b[1;32m    787\u001b[0m                 \u001b[0mhandle\u001b[0m\u001b[0;34m,\u001b[0m\u001b[0;34m\u001b[0m\u001b[0;34m\u001b[0m\u001b[0m\n\u001b[1;32m    788\u001b[0m                 \u001b[0mioargs\u001b[0m\u001b[0;34m.\u001b[0m\u001b[0mmode\u001b[0m\u001b[0;34m,\u001b[0m\u001b[0;34m\u001b[0m\u001b[0;34m\u001b[0m\u001b[0m\n",
      "\u001b[0;31mFileNotFoundError\u001b[0m: [Errno 2] No such file or directory: 'B07PF1SN5B_vitafusionMaxStrengthMelatoninGummySupplements.csv'"
     ]
    }
   ],
   "source": [
    "Vitafusion = pd.read_csv(\"B07PF1SN5B_vitafusionMaxStrengthMelatoninGummySupplements.csv\")"
   ]
  },
  {
   "cell_type": "code",
   "execution_count": 58,
   "id": "85e5b3b4",
   "metadata": {},
   "outputs": [],
   "source": [
    "Vitafusion = Vitafusion.drop(columns=columns_to_drop)\n",
    "Vitafusion = Vitafusion[Vitafusion[\"badge\"]== \"Verified Purchase\"]"
   ]
  },
  {
   "cell_type": "code",
   "execution_count": 59,
   "id": "8e6871f2",
   "metadata": {},
   "outputs": [],
   "source": [
    "Vitafusion['doses'] = '10mg'"
   ]
  },
  {
   "cell_type": "code",
   "execution_count": 60,
   "id": "c5320ed4",
   "metadata": {
    "scrolled": true
   },
   "outputs": [
    {
     "data": {
      "text/html": [
       "<div>\n",
       "<style scoped>\n",
       "    .dataframe tbody tr th:only-of-type {\n",
       "        vertical-align: middle;\n",
       "    }\n",
       "\n",
       "    .dataframe tbody tr th {\n",
       "        vertical-align: top;\n",
       "    }\n",
       "\n",
       "    .dataframe thead th {\n",
       "        text-align: right;\n",
       "    }\n",
       "</style>\n",
       "<table border=\"1\" class=\"dataframe\">\n",
       "  <thead>\n",
       "    <tr style=\"text-align: right;\">\n",
       "      <th></th>\n",
       "      <th>product_title</th>\n",
       "      <th>average_rating</th>\n",
       "      <th>total_reviews</th>\n",
       "      <th>badge</th>\n",
       "      <th>review_rating</th>\n",
       "      <th>review_date</th>\n",
       "      <th>no_of_people_reacted_helpful</th>\n",
       "      <th>brand</th>\n",
       "      <th>doses</th>\n",
       "    </tr>\n",
       "  </thead>\n",
       "  <tbody>\n",
       "    <tr>\n",
       "      <th>0</th>\n",
       "      <td>vitafusion Max Strength Melatonin Gummy Supplements, Strawberry Flavored, 10 mg Melatonin Sleep Supplements, America’s Number 1 Gummy Vitamin Brand, 50 Day Supply, 100 Count</td>\n",
       "      <td>4.6</td>\n",
       "      <td>5151</td>\n",
       "      <td>Verified Purchase</td>\n",
       "      <td>5</td>\n",
       "      <td>18-Jul-17</td>\n",
       "      <td>NaN</td>\n",
       "      <td>Vitafusion</td>\n",
       "      <td>10mg</td>\n",
       "    </tr>\n",
       "    <tr>\n",
       "      <th>1</th>\n",
       "      <td>vitafusion Max Strength Melatonin Gummy Supplements, Strawberry Flavored, 10 mg Melatonin Sleep Supplements, America’s Number 1 Gummy Vitamin Brand, 50 Day Supply, 100 Count</td>\n",
       "      <td>4.6</td>\n",
       "      <td>5151</td>\n",
       "      <td>Verified Purchase</td>\n",
       "      <td>5</td>\n",
       "      <td>11-Apr-22</td>\n",
       "      <td>NaN</td>\n",
       "      <td>Vitafusion</td>\n",
       "      <td>10mg</td>\n",
       "    </tr>\n",
       "    <tr>\n",
       "      <th>2</th>\n",
       "      <td>vitafusion Max Strength Melatonin Gummy Supplements, Strawberry Flavored, 10 mg Melatonin Sleep Supplements, America’s Number 1 Gummy Vitamin Brand, 50 Day Supply, 100 Count</td>\n",
       "      <td>4.6</td>\n",
       "      <td>5151</td>\n",
       "      <td>Verified Purchase</td>\n",
       "      <td>5</td>\n",
       "      <td>12-Oct-21</td>\n",
       "      <td>NaN</td>\n",
       "      <td>Vitafusion</td>\n",
       "      <td>10mg</td>\n",
       "    </tr>\n",
       "    <tr>\n",
       "      <th>3</th>\n",
       "      <td>vitafusion Max Strength Melatonin Gummy Supplements, Strawberry Flavored, 10 mg Melatonin Sleep Supplements, America’s Number 1 Gummy Vitamin Brand, 50 Day Supply, 100 Count</td>\n",
       "      <td>4.6</td>\n",
       "      <td>5151</td>\n",
       "      <td>Verified Purchase</td>\n",
       "      <td>2</td>\n",
       "      <td>23-Jun-22</td>\n",
       "      <td>NaN</td>\n",
       "      <td>Vitafusion</td>\n",
       "      <td>10mg</td>\n",
       "    </tr>\n",
       "    <tr>\n",
       "      <th>4</th>\n",
       "      <td>vitafusion Max Strength Melatonin Gummy Supplements, Strawberry Flavored, 10 mg Melatonin Sleep Supplements, America’s Number 1 Gummy Vitamin Brand, 50 Day Supply, 100 Count</td>\n",
       "      <td>4.6</td>\n",
       "      <td>5151</td>\n",
       "      <td>Verified Purchase</td>\n",
       "      <td>1</td>\n",
       "      <td>18-Nov-22</td>\n",
       "      <td>NaN</td>\n",
       "      <td>Vitafusion</td>\n",
       "      <td>10mg</td>\n",
       "    </tr>\n",
       "  </tbody>\n",
       "</table>\n",
       "</div>"
      ],
      "text/plain": [
       "                                                                                                                                                                   product_title  \\\n",
       "0  vitafusion Max Strength Melatonin Gummy Supplements, Strawberry Flavored, 10 mg Melatonin Sleep Supplements, America’s Number 1 Gummy Vitamin Brand, 50 Day Supply, 100 Count   \n",
       "1  vitafusion Max Strength Melatonin Gummy Supplements, Strawberry Flavored, 10 mg Melatonin Sleep Supplements, America’s Number 1 Gummy Vitamin Brand, 50 Day Supply, 100 Count   \n",
       "2  vitafusion Max Strength Melatonin Gummy Supplements, Strawberry Flavored, 10 mg Melatonin Sleep Supplements, America’s Number 1 Gummy Vitamin Brand, 50 Day Supply, 100 Count   \n",
       "3  vitafusion Max Strength Melatonin Gummy Supplements, Strawberry Flavored, 10 mg Melatonin Sleep Supplements, America’s Number 1 Gummy Vitamin Brand, 50 Day Supply, 100 Count   \n",
       "4  vitafusion Max Strength Melatonin Gummy Supplements, Strawberry Flavored, 10 mg Melatonin Sleep Supplements, America’s Number 1 Gummy Vitamin Brand, 50 Day Supply, 100 Count   \n",
       "\n",
       "   average_rating  total_reviews              badge  review_rating  \\\n",
       "0             4.6           5151  Verified Purchase              5   \n",
       "1             4.6           5151  Verified Purchase              5   \n",
       "2             4.6           5151  Verified Purchase              5   \n",
       "3             4.6           5151  Verified Purchase              2   \n",
       "4             4.6           5151  Verified Purchase              1   \n",
       "\n",
       "  review_date no_of_people_reacted_helpful       brand doses  \n",
       "0   18-Jul-17                          NaN  Vitafusion  10mg  \n",
       "1   11-Apr-22                          NaN  Vitafusion  10mg  \n",
       "2   12-Oct-21                          NaN  Vitafusion  10mg  \n",
       "3   23-Jun-22                          NaN  Vitafusion  10mg  \n",
       "4   18-Nov-22                          NaN  Vitafusion  10mg  "
      ]
     },
     "execution_count": 60,
     "metadata": {},
     "output_type": "execute_result"
    }
   ],
   "source": [
    "Vitafusion.head()"
   ]
  },
  {
   "cell_type": "code",
   "execution_count": 127,
   "id": "8cc8c709",
   "metadata": {},
   "outputs": [
    {
     "data": {
      "text/html": [
       "<div>\n",
       "<style scoped>\n",
       "    .dataframe tbody tr th:only-of-type {\n",
       "        vertical-align: middle;\n",
       "    }\n",
       "\n",
       "    .dataframe tbody tr th {\n",
       "        vertical-align: top;\n",
       "    }\n",
       "\n",
       "    .dataframe thead th {\n",
       "        text-align: right;\n",
       "    }\n",
       "</style>\n",
       "<table border=\"1\" class=\"dataframe\">\n",
       "  <thead>\n",
       "    <tr style=\"text-align: right;\">\n",
       "      <th></th>\n",
       "      <th>average_rating</th>\n",
       "      <th>total_reviews</th>\n",
       "      <th>review_rating</th>\n",
       "      <th>no_of_people_reacted_helpful</th>\n",
       "    </tr>\n",
       "  </thead>\n",
       "  <tbody>\n",
       "    <tr>\n",
       "      <th>count</th>\n",
       "      <td>1.950000e+03</td>\n",
       "      <td>1950.0</td>\n",
       "      <td>1950.000000</td>\n",
       "      <td>380.000000</td>\n",
       "    </tr>\n",
       "    <tr>\n",
       "      <th>mean</th>\n",
       "      <td>4.600000e+00</td>\n",
       "      <td>5151.0</td>\n",
       "      <td>4.435897</td>\n",
       "      <td>7.455263</td>\n",
       "    </tr>\n",
       "    <tr>\n",
       "      <th>std</th>\n",
       "      <td>1.679088e-13</td>\n",
       "      <td>0.0</td>\n",
       "      <td>1.016409</td>\n",
       "      <td>27.637888</td>\n",
       "    </tr>\n",
       "    <tr>\n",
       "      <th>min</th>\n",
       "      <td>4.600000e+00</td>\n",
       "      <td>5151.0</td>\n",
       "      <td>1.000000</td>\n",
       "      <td>1.000000</td>\n",
       "    </tr>\n",
       "    <tr>\n",
       "      <th>25%</th>\n",
       "      <td>4.600000e+00</td>\n",
       "      <td>5151.0</td>\n",
       "      <td>4.000000</td>\n",
       "      <td>1.000000</td>\n",
       "    </tr>\n",
       "    <tr>\n",
       "      <th>50%</th>\n",
       "      <td>4.600000e+00</td>\n",
       "      <td>5151.0</td>\n",
       "      <td>5.000000</td>\n",
       "      <td>1.000000</td>\n",
       "    </tr>\n",
       "    <tr>\n",
       "      <th>75%</th>\n",
       "      <td>4.600000e+00</td>\n",
       "      <td>5151.0</td>\n",
       "      <td>5.000000</td>\n",
       "      <td>3.000000</td>\n",
       "    </tr>\n",
       "    <tr>\n",
       "      <th>max</th>\n",
       "      <td>4.600000e+00</td>\n",
       "      <td>5151.0</td>\n",
       "      <td>5.000000</td>\n",
       "      <td>268.000000</td>\n",
       "    </tr>\n",
       "  </tbody>\n",
       "</table>\n",
       "</div>"
      ],
      "text/plain": [
       "       average_rating  total_reviews  review_rating  \\\n",
       "count    1.950000e+03         1950.0    1950.000000   \n",
       "mean     4.600000e+00         5151.0       4.435897   \n",
       "std      1.679088e-13            0.0       1.016409   \n",
       "min      4.600000e+00         5151.0       1.000000   \n",
       "25%      4.600000e+00         5151.0       4.000000   \n",
       "50%      4.600000e+00         5151.0       5.000000   \n",
       "75%      4.600000e+00         5151.0       5.000000   \n",
       "max      4.600000e+00         5151.0       5.000000   \n",
       "\n",
       "       no_of_people_reacted_helpful  \n",
       "count                    380.000000  \n",
       "mean                       7.455263  \n",
       "std                       27.637888  \n",
       "min                        1.000000  \n",
       "25%                        1.000000  \n",
       "50%                        1.000000  \n",
       "75%                        3.000000  \n",
       "max                      268.000000  "
      ]
     },
     "execution_count": 127,
     "metadata": {},
     "output_type": "execute_result"
    }
   ],
   "source": [
    "Vitafusion.describe()"
   ]
  },
  {
   "cell_type": "code",
   "execution_count": 120,
   "id": "db773c78",
   "metadata": {
    "scrolled": true
   },
   "outputs": [
    {
     "data": {
      "text/plain": [
       "<AxesSubplot:>"
      ]
     },
     "execution_count": 120,
     "metadata": {},
     "output_type": "execute_result"
    },
    {
     "data": {
      "image/png": "[encoded data removed]",
      "text/plain": [
       "<Figure size 640x480 with 1 Axes>"
      ]
     },
     "metadata": {},
     "output_type": "display_data"
    }
   ],
   "source": [
    "Vitafusion[\"review_rating\"].value_counts().plot(kind=\"bar\")"
   ]
  },
  {
   "cell_type": "code",
   "execution_count": null,
   "id": "9e83c653",
   "metadata": {},
   "outputs": [],
   "source": []
  },
  {
   "cell_type": "code",
   "execution_count": 4,
   "id": "9747988d",
   "metadata": {},
   "outputs": [],
   "source": [
    "import pandas as pd"
   ]
  },
  {
   "cell_type": "code",
   "execution_count": 6,
   "id": "1874b39c",
   "metadata": {},
   "outputs": [
    {
     "ename": "NameError",
     "evalue": "name 'Natrol' is not defined",
     "output_type": "error",
     "traceback": [
      "\u001b[0;31m---------------------------------------------------------------------------\u001b[0m",
      "\u001b[0;31mNameError\u001b[0m                                 Traceback (most recent call last)",
      "\u001b[0;32m/var/folders/55/6zmgdc_d7q526rnkxvcdm7_40000gn/T/ipykernel_71917/1277243915.py\u001b[0m in \u001b[0;36m<module>\u001b[0;34m\u001b[0m\n\u001b[0;32m----> 1\u001b[0;31m \u001b[0munion_all_df\u001b[0m \u001b[0;34m=\u001b[0m \u001b[0mpd\u001b[0m\u001b[0;34m.\u001b[0m\u001b[0mconcat\u001b[0m\u001b[0;34m(\u001b[0m\u001b[0;34m[\u001b[0m\u001b[0mNatrol\u001b[0m\u001b[0;34m,\u001b[0m \u001b[0mVitafusion\u001b[0m\u001b[0;34m]\u001b[0m\u001b[0;34m,\u001b[0m \u001b[0mignore_index\u001b[0m\u001b[0;34m=\u001b[0m\u001b[0;32mTrue\u001b[0m\u001b[0;34m)\u001b[0m\u001b[0;34m\u001b[0m\u001b[0;34m\u001b[0m\u001b[0m\n\u001b[0m",
      "\u001b[0;31mNameError\u001b[0m: name 'Natrol' is not defined"
     ]
    }
   ],
   "source": [
    "union_all_df = pd.concat([Natrol, Vitafusion], ignore_index=True)"
   ]
  },
  {
   "cell_type": "code",
   "execution_count": 1,
   "id": "1f9adaaa",
   "metadata": {},
   "outputs": [
    {
     "ename": "NameError",
     "evalue": "name 'union_all_df' is not defined",
     "output_type": "error",
     "traceback": [
      "\u001b[0;31m---------------------------------------------------------------------------\u001b[0m",
      "\u001b[0;31mNameError\u001b[0m                                 Traceback (most recent call last)",
      "\u001b[0;32m/var/folders/55/6zmgdc_d7q526rnkxvcdm7_40000gn/T/ipykernel_71917/4125154381.py\u001b[0m in \u001b[0;36m<module>\u001b[0;34m\u001b[0m\n\u001b[0;32m----> 1\u001b[0;31m \u001b[0munion_all_df\u001b[0m\u001b[0;34m.\u001b[0m\u001b[0mhead\u001b[0m\u001b[0;34m(\u001b[0m\u001b[0;34m)\u001b[0m\u001b[0;34m\u001b[0m\u001b[0;34m\u001b[0m\u001b[0m\n\u001b[0m",
      "\u001b[0;31mNameError\u001b[0m: name 'union_all_df' is not defined"
     ]
    }
   ],
   "source": [
    "union_all_df.head()"
   ]
  },
  {
   "cell_type": "code",
   "execution_count": 63,
   "id": "be9a306a",
   "metadata": {},
   "outputs": [],
   "source": [
    "ZzzQuil = pd.read_csv(\"B07N46LTJJ_ZzzQuilPureZzzsMelatoninSleepAidGummies.csv\")"
   ]
  },
  {
   "cell_type": "code",
   "execution_count": 64,
   "id": "d16a44d8",
   "metadata": {},
   "outputs": [],
   "source": [
    "ZzzQuil = ZzzQuil.drop(columns=columns_to_drop)\n",
    "ZzzQuil = ZzzQuil[ZzzQuil[\"badge\"]== \"Verified Purchase\"]"
   ]
  },
  {
   "cell_type": "code",
   "execution_count": 65,
   "id": "fd3d7277",
   "metadata": {},
   "outputs": [],
   "source": [
    "ZzzQuil['doses'] = '1mg'"
   ]
  },
  {
   "cell_type": "code",
   "execution_count": 66,
   "id": "eaebc31d",
   "metadata": {},
   "outputs": [
    {
     "data": {
      "text/html": [
       "<div>\n",
       "<style scoped>\n",
       "    .dataframe tbody tr th:only-of-type {\n",
       "        vertical-align: middle;\n",
       "    }\n",
       "\n",
       "    .dataframe tbody tr th {\n",
       "        vertical-align: top;\n",
       "    }\n",
       "\n",
       "    .dataframe thead th {\n",
       "        text-align: right;\n",
       "    }\n",
       "</style>\n",
       "<table border=\"1\" class=\"dataframe\">\n",
       "  <thead>\n",
       "    <tr style=\"text-align: right;\">\n",
       "      <th></th>\n",
       "      <th>product_title</th>\n",
       "      <th>average_rating</th>\n",
       "      <th>total_reviews</th>\n",
       "      <th>badge</th>\n",
       "      <th>review_rating</th>\n",
       "      <th>review_date</th>\n",
       "      <th>no_of_people_reacted_helpful</th>\n",
       "      <th>brand</th>\n",
       "      <th>doses</th>\n",
       "    </tr>\n",
       "  </thead>\n",
       "  <tbody>\n",
       "    <tr>\n",
       "      <th>1</th>\n",
       "      <td>ZzzQuil Pure Zzzs Melatonin Sleep Aid Gummies, Helps You Fall Asleep Naturally, Wildberry Vanilla Flavor, Chamomile Lavender &amp; Valerian Root, 1mg per Gummy, 72 Count</td>\n",
       "      <td>4.5</td>\n",
       "      <td>1316</td>\n",
       "      <td>Verified Purchase</td>\n",
       "      <td>3</td>\n",
       "      <td>1-Aug-21</td>\n",
       "      <td>9.0</td>\n",
       "      <td>ZzzQuil</td>\n",
       "      <td>1mg</td>\n",
       "    </tr>\n",
       "    <tr>\n",
       "      <th>2</th>\n",
       "      <td>ZzzQuil Pure Zzzs Melatonin Sleep Aid Gummies, Helps You Fall Asleep Naturally, Wildberry Vanilla Flavor, Chamomile Lavender &amp; Valerian Root, 1mg per Gummy, 72 Count</td>\n",
       "      <td>4.5</td>\n",
       "      <td>1316</td>\n",
       "      <td>Verified Purchase</td>\n",
       "      <td>1</td>\n",
       "      <td>17-Aug-21</td>\n",
       "      <td>NaN</td>\n",
       "      <td>ZzzQuil</td>\n",
       "      <td>1mg</td>\n",
       "    </tr>\n",
       "    <tr>\n",
       "      <th>3</th>\n",
       "      <td>ZzzQuil Pure Zzzs Melatonin Sleep Aid Gummies, Helps You Fall Asleep Naturally, Wildberry Vanilla Flavor, Chamomile Lavender &amp; Valerian Root, 1mg per Gummy, 72 Count</td>\n",
       "      <td>4.5</td>\n",
       "      <td>1316</td>\n",
       "      <td>Verified Purchase</td>\n",
       "      <td>5</td>\n",
       "      <td>16-Sep-20</td>\n",
       "      <td>NaN</td>\n",
       "      <td>ZzzQuil</td>\n",
       "      <td>1mg</td>\n",
       "    </tr>\n",
       "    <tr>\n",
       "      <th>4</th>\n",
       "      <td>ZzzQuil Pure Zzzs Melatonin Sleep Aid Gummies, Helps You Fall Asleep Naturally, Wildberry Vanilla Flavor, Chamomile Lavender &amp; Valerian Root, 1mg per Gummy, 72 Count</td>\n",
       "      <td>4.5</td>\n",
       "      <td>1316</td>\n",
       "      <td>Verified Purchase</td>\n",
       "      <td>5</td>\n",
       "      <td>8-Dec-20</td>\n",
       "      <td>NaN</td>\n",
       "      <td>ZzzQuil</td>\n",
       "      <td>1mg</td>\n",
       "    </tr>\n",
       "    <tr>\n",
       "      <th>5</th>\n",
       "      <td>ZzzQuil Pure Zzzs Melatonin Sleep Aid Gummies, Helps You Fall Asleep Naturally, Wildberry Vanilla Flavor, Chamomile Lavender &amp; Valerian Root, 1mg per Gummy, 72 Count</td>\n",
       "      <td>4.5</td>\n",
       "      <td>1316</td>\n",
       "      <td>Verified Purchase</td>\n",
       "      <td>5</td>\n",
       "      <td>16-Jul-22</td>\n",
       "      <td>NaN</td>\n",
       "      <td>ZzzQuil</td>\n",
       "      <td>1mg</td>\n",
       "    </tr>\n",
       "  </tbody>\n",
       "</table>\n",
       "</div>"
      ],
      "text/plain": [
       "                                                                                                                                                           product_title  \\\n",
       "1  ZzzQuil Pure Zzzs Melatonin Sleep Aid Gummies, Helps You Fall Asleep Naturally, Wildberry Vanilla Flavor, Chamomile Lavender & Valerian Root, 1mg per Gummy, 72 Count   \n",
       "2  ZzzQuil Pure Zzzs Melatonin Sleep Aid Gummies, Helps You Fall Asleep Naturally, Wildberry Vanilla Flavor, Chamomile Lavender & Valerian Root, 1mg per Gummy, 72 Count   \n",
       "3  ZzzQuil Pure Zzzs Melatonin Sleep Aid Gummies, Helps You Fall Asleep Naturally, Wildberry Vanilla Flavor, Chamomile Lavender & Valerian Root, 1mg per Gummy, 72 Count   \n",
       "4  ZzzQuil Pure Zzzs Melatonin Sleep Aid Gummies, Helps You Fall Asleep Naturally, Wildberry Vanilla Flavor, Chamomile Lavender & Valerian Root, 1mg per Gummy, 72 Count   \n",
       "5  ZzzQuil Pure Zzzs Melatonin Sleep Aid Gummies, Helps You Fall Asleep Naturally, Wildberry Vanilla Flavor, Chamomile Lavender & Valerian Root, 1mg per Gummy, 72 Count   \n",
       "\n",
       "   average_rating  total_reviews              badge  review_rating  \\\n",
       "1             4.5           1316  Verified Purchase              3   \n",
       "2             4.5           1316  Verified Purchase              1   \n",
       "3             4.5           1316  Verified Purchase              5   \n",
       "4             4.5           1316  Verified Purchase              5   \n",
       "5             4.5           1316  Verified Purchase              5   \n",
       "\n",
       "  review_date  no_of_people_reacted_helpful    brand doses  \n",
       "1    1-Aug-21                           9.0  ZzzQuil   1mg  \n",
       "2   17-Aug-21                           NaN  ZzzQuil   1mg  \n",
       "3   16-Sep-20                           NaN  ZzzQuil   1mg  \n",
       "4    8-Dec-20                           NaN  ZzzQuil   1mg  \n",
       "5   16-Jul-22                           NaN  ZzzQuil   1mg  "
      ]
     },
     "execution_count": 66,
     "metadata": {},
     "output_type": "execute_result"
    }
   ],
   "source": [
    "ZzzQuil.head()"
   ]
  },
  {
   "cell_type": "code",
   "execution_count": 128,
   "id": "55fcdac8",
   "metadata": {},
   "outputs": [
    {
     "data": {
      "text/html": [
       "<div>\n",
       "<style scoped>\n",
       "    .dataframe tbody tr th:only-of-type {\n",
       "        vertical-align: middle;\n",
       "    }\n",
       "\n",
       "    .dataframe tbody tr th {\n",
       "        vertical-align: top;\n",
       "    }\n",
       "\n",
       "    .dataframe thead th {\n",
       "        text-align: right;\n",
       "    }\n",
       "</style>\n",
       "<table border=\"1\" class=\"dataframe\">\n",
       "  <thead>\n",
       "    <tr style=\"text-align: right;\">\n",
       "      <th></th>\n",
       "      <th>average_rating</th>\n",
       "      <th>total_reviews</th>\n",
       "      <th>review_rating</th>\n",
       "      <th>no_of_people_reacted_helpful</th>\n",
       "    </tr>\n",
       "  </thead>\n",
       "  <tbody>\n",
       "    <tr>\n",
       "      <th>count</th>\n",
       "      <td>1224.0</td>\n",
       "      <td>1224.0</td>\n",
       "      <td>1224.000000</td>\n",
       "      <td>222.000000</td>\n",
       "    </tr>\n",
       "    <tr>\n",
       "      <th>mean</th>\n",
       "      <td>4.5</td>\n",
       "      <td>1316.0</td>\n",
       "      <td>3.912582</td>\n",
       "      <td>8.297297</td>\n",
       "    </tr>\n",
       "    <tr>\n",
       "      <th>std</th>\n",
       "      <td>0.0</td>\n",
       "      <td>0.0</td>\n",
       "      <td>1.540313</td>\n",
       "      <td>33.134470</td>\n",
       "    </tr>\n",
       "    <tr>\n",
       "      <th>min</th>\n",
       "      <td>4.5</td>\n",
       "      <td>1316.0</td>\n",
       "      <td>1.000000</td>\n",
       "      <td>1.000000</td>\n",
       "    </tr>\n",
       "    <tr>\n",
       "      <th>25%</th>\n",
       "      <td>4.5</td>\n",
       "      <td>1316.0</td>\n",
       "      <td>3.000000</td>\n",
       "      <td>1.000000</td>\n",
       "    </tr>\n",
       "    <tr>\n",
       "      <th>50%</th>\n",
       "      <td>4.5</td>\n",
       "      <td>1316.0</td>\n",
       "      <td>5.000000</td>\n",
       "      <td>1.000000</td>\n",
       "    </tr>\n",
       "    <tr>\n",
       "      <th>75%</th>\n",
       "      <td>4.5</td>\n",
       "      <td>1316.0</td>\n",
       "      <td>5.000000</td>\n",
       "      <td>3.000000</td>\n",
       "    </tr>\n",
       "    <tr>\n",
       "      <th>max</th>\n",
       "      <td>4.5</td>\n",
       "      <td>1316.0</td>\n",
       "      <td>5.000000</td>\n",
       "      <td>280.000000</td>\n",
       "    </tr>\n",
       "  </tbody>\n",
       "</table>\n",
       "</div>"
      ],
      "text/plain": [
       "       average_rating  total_reviews  review_rating  \\\n",
       "count          1224.0         1224.0    1224.000000   \n",
       "mean              4.5         1316.0       3.912582   \n",
       "std               0.0            0.0       1.540313   \n",
       "min               4.5         1316.0       1.000000   \n",
       "25%               4.5         1316.0       3.000000   \n",
       "50%               4.5         1316.0       5.000000   \n",
       "75%               4.5         1316.0       5.000000   \n",
       "max               4.5         1316.0       5.000000   \n",
       "\n",
       "       no_of_people_reacted_helpful  \n",
       "count                    222.000000  \n",
       "mean                       8.297297  \n",
       "std                       33.134470  \n",
       "min                        1.000000  \n",
       "25%                        1.000000  \n",
       "50%                        1.000000  \n",
       "75%                        3.000000  \n",
       "max                      280.000000  "
      ]
     },
     "execution_count": 128,
     "metadata": {},
     "output_type": "execute_result"
    }
   ],
   "source": [
    "ZzzQuil.describe()"
   ]
  },
  {
   "cell_type": "code",
   "execution_count": 121,
   "id": "177d3b77",
   "metadata": {},
   "outputs": [
    {
     "data": {
      "text/plain": [
       "<AxesSubplot:>"
      ]
     },
     "execution_count": 121,
     "metadata": {},
     "output_type": "execute_result"
    },
    {
     "data": {
      "image/png": "[encoded data removed]",
      "text/plain": [
       "<Figure size 640x480 with 1 Axes>"
      ]
     },
     "metadata": {},
     "output_type": "display_data"
    }
   ],
   "source": [
    "ZzzQuil[\"review_rating\"].value_counts().plot(kind=\"bar\")"
   ]
  },
  {
   "cell_type": "code",
   "execution_count": null,
   "id": "feadcee8",
   "metadata": {},
   "outputs": [],
   "source": []
  },
  {
   "cell_type": "code",
   "execution_count": null,
   "id": "7069a6d0",
   "metadata": {},
   "outputs": [],
   "source": []
  },
  {
   "cell_type": "code",
   "execution_count": null,
   "id": "1972d915",
   "metadata": {},
   "outputs": [],
   "source": []
  },
  {
   "cell_type": "code",
   "execution_count": null,
   "id": "a014ed97",
   "metadata": {},
   "outputs": [],
   "source": []
  },
  {
   "cell_type": "code",
   "execution_count": 68,
   "id": "fef66504",
   "metadata": {},
   "outputs": [],
   "source": [
    "Carlyle_180Tablets = pd.read_csv(\"B07GR9WBFY_CarlyleMelatonin12mgFastDissolve180Tablets.csv\")"
   ]
  },
  {
   "cell_type": "code",
   "execution_count": 69,
   "id": "53073794",
   "metadata": {},
   "outputs": [],
   "source": [
    "Carlyle_180Tablets = Carlyle_180Tablets.drop(columns=columns_to_drop)\n",
    "Carlyle_180Tablets = Carlyle_180Tablets[Carlyle_180Tablets[\"badge\"]== \"Verified Purchase\"]"
   ]
  },
  {
   "cell_type": "code",
   "execution_count": 70,
   "id": "93f20a8f",
   "metadata": {},
   "outputs": [],
   "source": [
    "Carlyle_180Tablets['doses'] = '12 mg'"
   ]
  },
  {
   "cell_type": "code",
   "execution_count": 71,
   "id": "73b12827",
   "metadata": {
    "scrolled": true
   },
   "outputs": [
    {
     "data": {
      "text/html": [
       "<div>\n",
       "<style scoped>\n",
       "    .dataframe tbody tr th:only-of-type {\n",
       "        vertical-align: middle;\n",
       "    }\n",
       "\n",
       "    .dataframe tbody tr th {\n",
       "        vertical-align: top;\n",
       "    }\n",
       "\n",
       "    .dataframe thead th {\n",
       "        text-align: right;\n",
       "    }\n",
       "</style>\n",
       "<table border=\"1\" class=\"dataframe\">\n",
       "  <thead>\n",
       "    <tr style=\"text-align: right;\">\n",
       "      <th></th>\n",
       "      <th>product_title</th>\n",
       "      <th>average_rating</th>\n",
       "      <th>total_reviews</th>\n",
       "      <th>badge</th>\n",
       "      <th>review_rating</th>\n",
       "      <th>review_date</th>\n",
       "      <th>no_of_people_reacted_helpful</th>\n",
       "      <th>brand</th>\n",
       "      <th>doses</th>\n",
       "    </tr>\n",
       "  </thead>\n",
       "  <tbody>\n",
       "    <tr>\n",
       "      <th>0</th>\n",
       "      <td>Carlyle Melatonin 12 mg Fast Dissolve 180 Tablets | Drug Free | Natural Berry Flavor | Vegetarian, Non-GMO, Gluten Free</td>\n",
       "      <td>4.5</td>\n",
       "      <td>6594</td>\n",
       "      <td>Verified Purchase</td>\n",
       "      <td>2</td>\n",
       "      <td>29-Jan-22</td>\n",
       "      <td>NaN</td>\n",
       "      <td>Carlyle</td>\n",
       "      <td>12 mg</td>\n",
       "    </tr>\n",
       "    <tr>\n",
       "      <th>1</th>\n",
       "      <td>Carlyle Melatonin 12 mg Fast Dissolve 180 Tablets | Drug Free | Natural Berry Flavor | Vegetarian, Non-GMO, Gluten Free</td>\n",
       "      <td>4.5</td>\n",
       "      <td>6594</td>\n",
       "      <td>Verified Purchase</td>\n",
       "      <td>5</td>\n",
       "      <td>29-Mar-20</td>\n",
       "      <td>NaN</td>\n",
       "      <td>Carlyle</td>\n",
       "      <td>12 mg</td>\n",
       "    </tr>\n",
       "    <tr>\n",
       "      <th>2</th>\n",
       "      <td>Carlyle Melatonin 12 mg Fast Dissolve 180 Tablets | Drug Free | Natural Berry Flavor | Vegetarian, Non-GMO, Gluten Free</td>\n",
       "      <td>4.5</td>\n",
       "      <td>6594</td>\n",
       "      <td>Verified Purchase</td>\n",
       "      <td>5</td>\n",
       "      <td>19-Jan-20</td>\n",
       "      <td>NaN</td>\n",
       "      <td>Carlyle</td>\n",
       "      <td>12 mg</td>\n",
       "    </tr>\n",
       "    <tr>\n",
       "      <th>3</th>\n",
       "      <td>Carlyle Melatonin 12 mg Fast Dissolve 180 Tablets | Drug Free | Natural Berry Flavor | Vegetarian, Non-GMO, Gluten Free</td>\n",
       "      <td>4.5</td>\n",
       "      <td>6594</td>\n",
       "      <td>Verified Purchase</td>\n",
       "      <td>5</td>\n",
       "      <td>22-Mar-20</td>\n",
       "      <td>NaN</td>\n",
       "      <td>Carlyle</td>\n",
       "      <td>12 mg</td>\n",
       "    </tr>\n",
       "    <tr>\n",
       "      <th>4</th>\n",
       "      <td>Carlyle Melatonin 12 mg Fast Dissolve 180 Tablets | Drug Free | Natural Berry Flavor | Vegetarian, Non-GMO, Gluten Free</td>\n",
       "      <td>4.5</td>\n",
       "      <td>6594</td>\n",
       "      <td>Verified Purchase</td>\n",
       "      <td>5</td>\n",
       "      <td>16-Aug-20</td>\n",
       "      <td>NaN</td>\n",
       "      <td>Carlyle</td>\n",
       "      <td>12 mg</td>\n",
       "    </tr>\n",
       "  </tbody>\n",
       "</table>\n",
       "</div>"
      ],
      "text/plain": [
       "                                                                                                             product_title  \\\n",
       "0  Carlyle Melatonin 12 mg Fast Dissolve 180 Tablets | Drug Free | Natural Berry Flavor | Vegetarian, Non-GMO, Gluten Free   \n",
       "1  Carlyle Melatonin 12 mg Fast Dissolve 180 Tablets | Drug Free | Natural Berry Flavor | Vegetarian, Non-GMO, Gluten Free   \n",
       "2  Carlyle Melatonin 12 mg Fast Dissolve 180 Tablets | Drug Free | Natural Berry Flavor | Vegetarian, Non-GMO, Gluten Free   \n",
       "3  Carlyle Melatonin 12 mg Fast Dissolve 180 Tablets | Drug Free | Natural Berry Flavor | Vegetarian, Non-GMO, Gluten Free   \n",
       "4  Carlyle Melatonin 12 mg Fast Dissolve 180 Tablets | Drug Free | Natural Berry Flavor | Vegetarian, Non-GMO, Gluten Free   \n",
       "\n",
       "   average_rating  total_reviews              badge  review_rating  \\\n",
       "0             4.5           6594  Verified Purchase              2   \n",
       "1             4.5           6594  Verified Purchase              5   \n",
       "2             4.5           6594  Verified Purchase              5   \n",
       "3             4.5           6594  Verified Purchase              5   \n",
       "4             4.5           6594  Verified Purchase              5   \n",
       "\n",
       "  review_date no_of_people_reacted_helpful    brand  doses  \n",
       "0   29-Jan-22                          NaN  Carlyle  12 mg  \n",
       "1   29-Mar-20                          NaN  Carlyle  12 mg  \n",
       "2   19-Jan-20                          NaN  Carlyle  12 mg  \n",
       "3   22-Mar-20                          NaN  Carlyle  12 mg  \n",
       "4   16-Aug-20                          NaN  Carlyle  12 mg  "
      ]
     },
     "execution_count": 71,
     "metadata": {},
     "output_type": "execute_result"
    }
   ],
   "source": [
    "Carlyle_180Tablets.head()"
   ]
  },
  {
   "cell_type": "code",
   "execution_count": 129,
   "id": "5b6c73a9",
   "metadata": {},
   "outputs": [
    {
     "data": {
      "text/html": [
       "<div>\n",
       "<style scoped>\n",
       "    .dataframe tbody tr th:only-of-type {\n",
       "        vertical-align: middle;\n",
       "    }\n",
       "\n",
       "    .dataframe tbody tr th {\n",
       "        vertical-align: top;\n",
       "    }\n",
       "\n",
       "    .dataframe thead th {\n",
       "        text-align: right;\n",
       "    }\n",
       "</style>\n",
       "<table border=\"1\" class=\"dataframe\">\n",
       "  <thead>\n",
       "    <tr style=\"text-align: right;\">\n",
       "      <th></th>\n",
       "      <th>average_rating</th>\n",
       "      <th>total_reviews</th>\n",
       "      <th>review_rating</th>\n",
       "      <th>no_of_people_reacted_helpful</th>\n",
       "    </tr>\n",
       "  </thead>\n",
       "  <tbody>\n",
       "    <tr>\n",
       "      <th>count</th>\n",
       "      <td>5000.0</td>\n",
       "      <td>5000.0</td>\n",
       "      <td>5000.00000</td>\n",
       "      <td>638.000000</td>\n",
       "    </tr>\n",
       "    <tr>\n",
       "      <th>mean</th>\n",
       "      <td>4.5</td>\n",
       "      <td>6594.0</td>\n",
       "      <td>4.22140</td>\n",
       "      <td>7.910658</td>\n",
       "    </tr>\n",
       "    <tr>\n",
       "      <th>std</th>\n",
       "      <td>0.0</td>\n",
       "      <td>0.0</td>\n",
       "      <td>1.31146</td>\n",
       "      <td>54.663720</td>\n",
       "    </tr>\n",
       "    <tr>\n",
       "      <th>min</th>\n",
       "      <td>4.5</td>\n",
       "      <td>6594.0</td>\n",
       "      <td>1.00000</td>\n",
       "      <td>1.000000</td>\n",
       "    </tr>\n",
       "    <tr>\n",
       "      <th>25%</th>\n",
       "      <td>4.5</td>\n",
       "      <td>6594.0</td>\n",
       "      <td>4.00000</td>\n",
       "      <td>1.000000</td>\n",
       "    </tr>\n",
       "    <tr>\n",
       "      <th>50%</th>\n",
       "      <td>4.5</td>\n",
       "      <td>6594.0</td>\n",
       "      <td>5.00000</td>\n",
       "      <td>1.000000</td>\n",
       "    </tr>\n",
       "    <tr>\n",
       "      <th>75%</th>\n",
       "      <td>4.5</td>\n",
       "      <td>6594.0</td>\n",
       "      <td>5.00000</td>\n",
       "      <td>2.000000</td>\n",
       "    </tr>\n",
       "    <tr>\n",
       "      <th>max</th>\n",
       "      <td>4.5</td>\n",
       "      <td>6594.0</td>\n",
       "      <td>5.00000</td>\n",
       "      <td>920.000000</td>\n",
       "    </tr>\n",
       "  </tbody>\n",
       "</table>\n",
       "</div>"
      ],
      "text/plain": [
       "       average_rating  total_reviews  review_rating  \\\n",
       "count          5000.0         5000.0     5000.00000   \n",
       "mean              4.5         6594.0        4.22140   \n",
       "std               0.0            0.0        1.31146   \n",
       "min               4.5         6594.0        1.00000   \n",
       "25%               4.5         6594.0        4.00000   \n",
       "50%               4.5         6594.0        5.00000   \n",
       "75%               4.5         6594.0        5.00000   \n",
       "max               4.5         6594.0        5.00000   \n",
       "\n",
       "       no_of_people_reacted_helpful  \n",
       "count                    638.000000  \n",
       "mean                       7.910658  \n",
       "std                       54.663720  \n",
       "min                        1.000000  \n",
       "25%                        1.000000  \n",
       "50%                        1.000000  \n",
       "75%                        2.000000  \n",
       "max                      920.000000  "
      ]
     },
     "execution_count": 129,
     "metadata": {},
     "output_type": "execute_result"
    }
   ],
   "source": [
    "Carlyle_180Tablets.describe()"
   ]
  },
  {
   "cell_type": "code",
   "execution_count": 122,
   "id": "970c70c5",
   "metadata": {},
   "outputs": [
    {
     "data": {
      "text/plain": [
       "<AxesSubplot:>"
      ]
     },
     "execution_count": 122,
     "metadata": {},
     "output_type": "execute_result"
    },
    {
     "data": {
      "image/png": "[encoded data removed]",
      "text/plain": [
       "<Figure size 640x480 with 1 Axes>"
      ]
     },
     "metadata": {},
     "output_type": "display_data"
    }
   ],
   "source": [
    "Carlyle_180Tablets[\"review_rating\"].value_counts().plot(kind=\"bar\")"
   ]
  },
  {
   "cell_type": "code",
   "execution_count": null,
   "id": "f26702f2",
   "metadata": {},
   "outputs": [],
   "source": []
  },
  {
   "cell_type": "code",
   "execution_count": null,
   "id": "32e2652d",
   "metadata": {},
   "outputs": [],
   "source": []
  },
  {
   "cell_type": "code",
   "execution_count": null,
   "id": "2cbe5f0e",
   "metadata": {},
   "outputs": [],
   "source": []
  },
  {
   "cell_type": "code",
   "execution_count": null,
   "id": "45ffbfc9",
   "metadata": {},
   "outputs": [],
   "source": []
  },
  {
   "cell_type": "code",
   "execution_count": 74,
   "id": "e3b7ba2c",
   "metadata": {},
   "outputs": [],
   "source": [
    "Carlyle_300Tablets = pd.read_csv(\"B08451719W_CarlyleMelatonin12mgFastDissolve300Tablets.csv\")"
   ]
  },
  {
   "cell_type": "code",
   "execution_count": 75,
   "id": "1bfe29b6",
   "metadata": {},
   "outputs": [],
   "source": [
    "Carlyle_300Tablets = Carlyle_300Tablets.drop(columns=columns_to_drop)\n",
    "Carlyle_300Tablets = Carlyle_300Tablets[Carlyle_300Tablets[\"badge\"]== \"Verified Purchase\"]"
   ]
  },
  {
   "cell_type": "code",
   "execution_count": 76,
   "id": "439204f4",
   "metadata": {},
   "outputs": [],
   "source": [
    "Carlyle_300Tablets['doses'] = '12 mg'"
   ]
  },
  {
   "cell_type": "code",
   "execution_count": 77,
   "id": "e9a7e1e5",
   "metadata": {
    "scrolled": true
   },
   "outputs": [
    {
     "data": {
      "text/html": [
       "<div>\n",
       "<style scoped>\n",
       "    .dataframe tbody tr th:only-of-type {\n",
       "        vertical-align: middle;\n",
       "    }\n",
       "\n",
       "    .dataframe tbody tr th {\n",
       "        vertical-align: top;\n",
       "    }\n",
       "\n",
       "    .dataframe thead th {\n",
       "        text-align: right;\n",
       "    }\n",
       "</style>\n",
       "<table border=\"1\" class=\"dataframe\">\n",
       "  <thead>\n",
       "    <tr style=\"text-align: right;\">\n",
       "      <th></th>\n",
       "      <th>product_title</th>\n",
       "      <th>average_rating</th>\n",
       "      <th>total_reviews</th>\n",
       "      <th>badge</th>\n",
       "      <th>review_rating</th>\n",
       "      <th>review_date</th>\n",
       "      <th>no_of_people_reacted_helpful</th>\n",
       "      <th>brand</th>\n",
       "      <th>doses</th>\n",
       "    </tr>\n",
       "  </thead>\n",
       "  <tbody>\n",
       "    <tr>\n",
       "      <th>0</th>\n",
       "      <td>Carlyle Melatonin 12 mg Fast Dissolve 300 Tablets | Drug Free | Natural Berry Flavor | Vegetarian, Non-GMO, Gluten Free</td>\n",
       "      <td>4.7</td>\n",
       "      <td>768</td>\n",
       "      <td>Verified Purchase</td>\n",
       "      <td>5</td>\n",
       "      <td>10-Dec-22</td>\n",
       "      <td>NaN</td>\n",
       "      <td>Carlyle</td>\n",
       "      <td>12 mg</td>\n",
       "    </tr>\n",
       "    <tr>\n",
       "      <th>1</th>\n",
       "      <td>Carlyle Melatonin 12 mg Fast Dissolve 300 Tablets | Drug Free | Natural Berry Flavor | Vegetarian, Non-GMO, Gluten Free</td>\n",
       "      <td>4.7</td>\n",
       "      <td>768</td>\n",
       "      <td>Verified Purchase</td>\n",
       "      <td>5</td>\n",
       "      <td>19-Sep-22</td>\n",
       "      <td>1.0</td>\n",
       "      <td>Carlyle</td>\n",
       "      <td>12 mg</td>\n",
       "    </tr>\n",
       "    <tr>\n",
       "      <th>2</th>\n",
       "      <td>Carlyle Melatonin 12 mg Fast Dissolve 300 Tablets | Drug Free | Natural Berry Flavor | Vegetarian, Non-GMO, Gluten Free</td>\n",
       "      <td>4.7</td>\n",
       "      <td>768</td>\n",
       "      <td>Verified Purchase</td>\n",
       "      <td>5</td>\n",
       "      <td>11-Feb-21</td>\n",
       "      <td>NaN</td>\n",
       "      <td>Carlyle</td>\n",
       "      <td>12 mg</td>\n",
       "    </tr>\n",
       "    <tr>\n",
       "      <th>3</th>\n",
       "      <td>Carlyle Melatonin 12 mg Fast Dissolve 300 Tablets | Drug Free | Natural Berry Flavor | Vegetarian, Non-GMO, Gluten Free</td>\n",
       "      <td>4.7</td>\n",
       "      <td>768</td>\n",
       "      <td>Verified Purchase</td>\n",
       "      <td>3</td>\n",
       "      <td>6-Oct-22</td>\n",
       "      <td>NaN</td>\n",
       "      <td>Carlyle</td>\n",
       "      <td>12 mg</td>\n",
       "    </tr>\n",
       "    <tr>\n",
       "      <th>4</th>\n",
       "      <td>Carlyle Melatonin 12 mg Fast Dissolve 300 Tablets | Drug Free | Natural Berry Flavor | Vegetarian, Non-GMO, Gluten Free</td>\n",
       "      <td>4.7</td>\n",
       "      <td>768</td>\n",
       "      <td>Verified Purchase</td>\n",
       "      <td>5</td>\n",
       "      <td>17-Jan-21</td>\n",
       "      <td>NaN</td>\n",
       "      <td>Carlyle</td>\n",
       "      <td>12 mg</td>\n",
       "    </tr>\n",
       "  </tbody>\n",
       "</table>\n",
       "</div>"
      ],
      "text/plain": [
       "                                                                                                             product_title  \\\n",
       "0  Carlyle Melatonin 12 mg Fast Dissolve 300 Tablets | Drug Free | Natural Berry Flavor | Vegetarian, Non-GMO, Gluten Free   \n",
       "1  Carlyle Melatonin 12 mg Fast Dissolve 300 Tablets | Drug Free | Natural Berry Flavor | Vegetarian, Non-GMO, Gluten Free   \n",
       "2  Carlyle Melatonin 12 mg Fast Dissolve 300 Tablets | Drug Free | Natural Berry Flavor | Vegetarian, Non-GMO, Gluten Free   \n",
       "3  Carlyle Melatonin 12 mg Fast Dissolve 300 Tablets | Drug Free | Natural Berry Flavor | Vegetarian, Non-GMO, Gluten Free   \n",
       "4  Carlyle Melatonin 12 mg Fast Dissolve 300 Tablets | Drug Free | Natural Berry Flavor | Vegetarian, Non-GMO, Gluten Free   \n",
       "\n",
       "   average_rating  total_reviews              badge  review_rating  \\\n",
       "0             4.7            768  Verified Purchase              5   \n",
       "1             4.7            768  Verified Purchase              5   \n",
       "2             4.7            768  Verified Purchase              5   \n",
       "3             4.7            768  Verified Purchase              3   \n",
       "4             4.7            768  Verified Purchase              5   \n",
       "\n",
       "  review_date  no_of_people_reacted_helpful    brand  doses  \n",
       "0   10-Dec-22                           NaN  Carlyle  12 mg  \n",
       "1   19-Sep-22                           1.0  Carlyle  12 mg  \n",
       "2   11-Feb-21                           NaN  Carlyle  12 mg  \n",
       "3    6-Oct-22                           NaN  Carlyle  12 mg  \n",
       "4   17-Jan-21                           NaN  Carlyle  12 mg  "
      ]
     },
     "execution_count": 77,
     "metadata": {},
     "output_type": "execute_result"
    }
   ],
   "source": [
    "Carlyle_300Tablets.head()"
   ]
  },
  {
   "cell_type": "code",
   "execution_count": 130,
   "id": "11692b43",
   "metadata": {},
   "outputs": [
    {
     "data": {
      "text/html": [
       "<div>\n",
       "<style scoped>\n",
       "    .dataframe tbody tr th:only-of-type {\n",
       "        vertical-align: middle;\n",
       "    }\n",
       "\n",
       "    .dataframe tbody tr th {\n",
       "        vertical-align: top;\n",
       "    }\n",
       "\n",
       "    .dataframe thead th {\n",
       "        text-align: right;\n",
       "    }\n",
       "</style>\n",
       "<table border=\"1\" class=\"dataframe\">\n",
       "  <thead>\n",
       "    <tr style=\"text-align: right;\">\n",
       "      <th></th>\n",
       "      <th>average_rating</th>\n",
       "      <th>total_reviews</th>\n",
       "      <th>review_rating</th>\n",
       "      <th>no_of_people_reacted_helpful</th>\n",
       "    </tr>\n",
       "  </thead>\n",
       "  <tbody>\n",
       "    <tr>\n",
       "      <th>count</th>\n",
       "      <td>7.470000e+02</td>\n",
       "      <td>747.0</td>\n",
       "      <td>747.000000</td>\n",
       "      <td>127.000000</td>\n",
       "    </tr>\n",
       "    <tr>\n",
       "      <th>mean</th>\n",
       "      <td>4.700000e+00</td>\n",
       "      <td>768.0</td>\n",
       "      <td>4.345382</td>\n",
       "      <td>5.622047</td>\n",
       "    </tr>\n",
       "    <tr>\n",
       "      <th>std</th>\n",
       "      <td>5.688150e-14</td>\n",
       "      <td>0.0</td>\n",
       "      <td>1.258159</td>\n",
       "      <td>16.794240</td>\n",
       "    </tr>\n",
       "    <tr>\n",
       "      <th>min</th>\n",
       "      <td>4.700000e+00</td>\n",
       "      <td>768.0</td>\n",
       "      <td>1.000000</td>\n",
       "      <td>1.000000</td>\n",
       "    </tr>\n",
       "    <tr>\n",
       "      <th>25%</th>\n",
       "      <td>4.700000e+00</td>\n",
       "      <td>768.0</td>\n",
       "      <td>4.000000</td>\n",
       "      <td>1.000000</td>\n",
       "    </tr>\n",
       "    <tr>\n",
       "      <th>50%</th>\n",
       "      <td>4.700000e+00</td>\n",
       "      <td>768.0</td>\n",
       "      <td>5.000000</td>\n",
       "      <td>1.000000</td>\n",
       "    </tr>\n",
       "    <tr>\n",
       "      <th>75%</th>\n",
       "      <td>4.700000e+00</td>\n",
       "      <td>768.0</td>\n",
       "      <td>5.000000</td>\n",
       "      <td>2.000000</td>\n",
       "    </tr>\n",
       "    <tr>\n",
       "      <th>max</th>\n",
       "      <td>4.700000e+00</td>\n",
       "      <td>768.0</td>\n",
       "      <td>5.000000</td>\n",
       "      <td>112.000000</td>\n",
       "    </tr>\n",
       "  </tbody>\n",
       "</table>\n",
       "</div>"
      ],
      "text/plain": [
       "       average_rating  total_reviews  review_rating  \\\n",
       "count    7.470000e+02          747.0     747.000000   \n",
       "mean     4.700000e+00          768.0       4.345382   \n",
       "std      5.688150e-14            0.0       1.258159   \n",
       "min      4.700000e+00          768.0       1.000000   \n",
       "25%      4.700000e+00          768.0       4.000000   \n",
       "50%      4.700000e+00          768.0       5.000000   \n",
       "75%      4.700000e+00          768.0       5.000000   \n",
       "max      4.700000e+00          768.0       5.000000   \n",
       "\n",
       "       no_of_people_reacted_helpful  \n",
       "count                    127.000000  \n",
       "mean                       5.622047  \n",
       "std                       16.794240  \n",
       "min                        1.000000  \n",
       "25%                        1.000000  \n",
       "50%                        1.000000  \n",
       "75%                        2.000000  \n",
       "max                      112.000000  "
      ]
     },
     "execution_count": 130,
     "metadata": {},
     "output_type": "execute_result"
    }
   ],
   "source": [
    "Carlyle_300Tablets.describe()"
   ]
  },
  {
   "cell_type": "code",
   "execution_count": 123,
   "id": "d1c65601",
   "metadata": {},
   "outputs": [
    {
     "data": {
      "text/plain": [
       "<AxesSubplot:>"
      ]
     },
     "execution_count": 123,
     "metadata": {},
     "output_type": "execute_result"
    },
    {
     "data": {
      "image/png": "[encoded data removed]",
      "text/plain": [
       "<Figure size 640x480 with 1 Axes>"
      ]
     },
     "metadata": {},
     "output_type": "display_data"
    }
   ],
   "source": [
    "Carlyle_300Tablets[\"review_rating\"].value_counts().plot(kind=\"bar\")"
   ]
  },
  {
   "cell_type": "code",
   "execution_count": null,
   "id": "4b37e71d",
   "metadata": {},
   "outputs": [],
   "source": []
  },
  {
   "cell_type": "code",
   "execution_count": null,
   "id": "8fb0eebd",
   "metadata": {},
   "outputs": [],
   "source": []
  },
  {
   "cell_type": "code",
   "execution_count": null,
   "id": "6770f70b",
   "metadata": {},
   "outputs": [],
   "source": []
  },
  {
   "cell_type": "code",
   "execution_count": null,
   "id": "9fbfcc9f",
   "metadata": {},
   "outputs": [],
   "source": []
  },
  {
   "cell_type": "code",
   "execution_count": null,
   "id": "9d974217",
   "metadata": {},
   "outputs": [],
   "source": []
  },
  {
   "cell_type": "code",
   "execution_count": 79,
   "id": "9eb3332c",
   "metadata": {},
   "outputs": [],
   "source": [
    "Vitamatic = pd.read_csv(\"B08CGYFB2Q_VitamaticMelatonin20mgTablets.csv\")"
   ]
  },
  {
   "cell_type": "code",
   "execution_count": 80,
   "id": "5c0a7a84",
   "metadata": {},
   "outputs": [],
   "source": [
    "Vitamatic = Vitamatic.drop(columns=columns_to_drop)\n",
    "Vitamatic = Vitamatic[Vitamatic[\"badge\"]== \"Verified Purchase\"]"
   ]
  },
  {
   "cell_type": "code",
   "execution_count": 81,
   "id": "fe867acd",
   "metadata": {},
   "outputs": [],
   "source": [
    "Vitamatic['doses'] = '20 mg'"
   ]
  },
  {
   "cell_type": "code",
   "execution_count": 82,
   "id": "6cf8fe7a",
   "metadata": {
    "scrolled": true
   },
   "outputs": [
    {
     "data": {
      "text/html": [
       "<div>\n",
       "<style scoped>\n",
       "    .dataframe tbody tr th:only-of-type {\n",
       "        vertical-align: middle;\n",
       "    }\n",
       "\n",
       "    .dataframe tbody tr th {\n",
       "        vertical-align: top;\n",
       "    }\n",
       "\n",
       "    .dataframe thead th {\n",
       "        text-align: right;\n",
       "    }\n",
       "</style>\n",
       "<table border=\"1\" class=\"dataframe\">\n",
       "  <thead>\n",
       "    <tr style=\"text-align: right;\">\n",
       "      <th></th>\n",
       "      <th>product_title</th>\n",
       "      <th>average_rating</th>\n",
       "      <th>total_reviews</th>\n",
       "      <th>badge</th>\n",
       "      <th>review_rating</th>\n",
       "      <th>review_date</th>\n",
       "      <th>no_of_people_reacted_helpful</th>\n",
       "      <th>brand</th>\n",
       "      <th>doses</th>\n",
       "    </tr>\n",
       "  </thead>\n",
       "  <tbody>\n",
       "    <tr>\n",
       "      <th>0</th>\n",
       "      <td>Vitamatic Melatonin 20mg Tablets | Vegetarian, Non-GMO, Gluten Free | HIGH Potency 20 MG | Natural Berry Flavor |</td>\n",
       "      <td>4.5</td>\n",
       "      <td>1033</td>\n",
       "      <td>Verified Purchase</td>\n",
       "      <td>5</td>\n",
       "      <td>15-Aug-22</td>\n",
       "      <td>NaN</td>\n",
       "      <td>Vitamatic</td>\n",
       "      <td>20 mg</td>\n",
       "    </tr>\n",
       "    <tr>\n",
       "      <th>1</th>\n",
       "      <td>Vitamatic Melatonin 20mg Tablets | Vegetarian, Non-GMO, Gluten Free | HIGH Potency 20 MG | Natural Berry Flavor |</td>\n",
       "      <td>4.5</td>\n",
       "      <td>1033</td>\n",
       "      <td>Verified Purchase</td>\n",
       "      <td>5</td>\n",
       "      <td>11-Aug-21</td>\n",
       "      <td>NaN</td>\n",
       "      <td>Vitamatic</td>\n",
       "      <td>20 mg</td>\n",
       "    </tr>\n",
       "    <tr>\n",
       "      <th>2</th>\n",
       "      <td>Vitamatic Melatonin 20mg Tablets | Vegetarian, Non-GMO, Gluten Free | HIGH Potency 20 MG | Natural Berry Flavor |</td>\n",
       "      <td>4.5</td>\n",
       "      <td>1033</td>\n",
       "      <td>Verified Purchase</td>\n",
       "      <td>5</td>\n",
       "      <td>25-Feb-22</td>\n",
       "      <td>NaN</td>\n",
       "      <td>Vitamatic</td>\n",
       "      <td>20 mg</td>\n",
       "    </tr>\n",
       "    <tr>\n",
       "      <th>3</th>\n",
       "      <td>Vitamatic Melatonin 20mg Tablets | Vegetarian, Non-GMO, Gluten Free | HIGH Potency 20 MG | Natural Berry Flavor |</td>\n",
       "      <td>4.5</td>\n",
       "      <td>1033</td>\n",
       "      <td>Verified Purchase</td>\n",
       "      <td>5</td>\n",
       "      <td>10-Mar-22</td>\n",
       "      <td>NaN</td>\n",
       "      <td>Vitamatic</td>\n",
       "      <td>20 mg</td>\n",
       "    </tr>\n",
       "    <tr>\n",
       "      <th>4</th>\n",
       "      <td>Vitamatic Melatonin 20mg Tablets | Vegetarian, Non-GMO, Gluten Free | HIGH Potency 20 MG | Natural Berry Flavor |</td>\n",
       "      <td>4.5</td>\n",
       "      <td>1033</td>\n",
       "      <td>Verified Purchase</td>\n",
       "      <td>5</td>\n",
       "      <td>3-May-22</td>\n",
       "      <td>NaN</td>\n",
       "      <td>Vitamatic</td>\n",
       "      <td>20 mg</td>\n",
       "    </tr>\n",
       "  </tbody>\n",
       "</table>\n",
       "</div>"
      ],
      "text/plain": [
       "                                                                                                       product_title  \\\n",
       "0  Vitamatic Melatonin 20mg Tablets | Vegetarian, Non-GMO, Gluten Free | HIGH Potency 20 MG | Natural Berry Flavor |   \n",
       "1  Vitamatic Melatonin 20mg Tablets | Vegetarian, Non-GMO, Gluten Free | HIGH Potency 20 MG | Natural Berry Flavor |   \n",
       "2  Vitamatic Melatonin 20mg Tablets | Vegetarian, Non-GMO, Gluten Free | HIGH Potency 20 MG | Natural Berry Flavor |   \n",
       "3  Vitamatic Melatonin 20mg Tablets | Vegetarian, Non-GMO, Gluten Free | HIGH Potency 20 MG | Natural Berry Flavor |   \n",
       "4  Vitamatic Melatonin 20mg Tablets | Vegetarian, Non-GMO, Gluten Free | HIGH Potency 20 MG | Natural Berry Flavor |   \n",
       "\n",
       "   average_rating  total_reviews              badge  review_rating  \\\n",
       "0             4.5           1033  Verified Purchase              5   \n",
       "1             4.5           1033  Verified Purchase              5   \n",
       "2             4.5           1033  Verified Purchase              5   \n",
       "3             4.5           1033  Verified Purchase              5   \n",
       "4             4.5           1033  Verified Purchase              5   \n",
       "\n",
       "  review_date  no_of_people_reacted_helpful      brand  doses  \n",
       "0   15-Aug-22                           NaN  Vitamatic  20 mg  \n",
       "1   11-Aug-21                           NaN  Vitamatic  20 mg  \n",
       "2   25-Feb-22                           NaN  Vitamatic  20 mg  \n",
       "3   10-Mar-22                           NaN  Vitamatic  20 mg  \n",
       "4    3-May-22                           NaN  Vitamatic  20 mg  "
      ]
     },
     "execution_count": 82,
     "metadata": {},
     "output_type": "execute_result"
    }
   ],
   "source": [
    "Vitamatic.head()"
   ]
  },
  {
   "cell_type": "code",
   "execution_count": 131,
   "id": "5da46c4a",
   "metadata": {},
   "outputs": [
    {
     "data": {
      "text/html": [
       "<div>\n",
       "<style scoped>\n",
       "    .dataframe tbody tr th:only-of-type {\n",
       "        vertical-align: middle;\n",
       "    }\n",
       "\n",
       "    .dataframe tbody tr th {\n",
       "        vertical-align: top;\n",
       "    }\n",
       "\n",
       "    .dataframe thead th {\n",
       "        text-align: right;\n",
       "    }\n",
       "</style>\n",
       "<table border=\"1\" class=\"dataframe\">\n",
       "  <thead>\n",
       "    <tr style=\"text-align: right;\">\n",
       "      <th></th>\n",
       "      <th>average_rating</th>\n",
       "      <th>total_reviews</th>\n",
       "      <th>review_rating</th>\n",
       "      <th>no_of_people_reacted_helpful</th>\n",
       "    </tr>\n",
       "  </thead>\n",
       "  <tbody>\n",
       "    <tr>\n",
       "      <th>count</th>\n",
       "      <td>991.0</td>\n",
       "      <td>991.0</td>\n",
       "      <td>991.000000</td>\n",
       "      <td>193.000000</td>\n",
       "    </tr>\n",
       "    <tr>\n",
       "      <th>mean</th>\n",
       "      <td>4.5</td>\n",
       "      <td>1033.0</td>\n",
       "      <td>3.986882</td>\n",
       "      <td>4.533679</td>\n",
       "    </tr>\n",
       "    <tr>\n",
       "      <th>std</th>\n",
       "      <td>0.0</td>\n",
       "      <td>0.0</td>\n",
       "      <td>1.509174</td>\n",
       "      <td>13.027621</td>\n",
       "    </tr>\n",
       "    <tr>\n",
       "      <th>min</th>\n",
       "      <td>4.5</td>\n",
       "      <td>1033.0</td>\n",
       "      <td>1.000000</td>\n",
       "      <td>1.000000</td>\n",
       "    </tr>\n",
       "    <tr>\n",
       "      <th>25%</th>\n",
       "      <td>4.5</td>\n",
       "      <td>1033.0</td>\n",
       "      <td>3.000000</td>\n",
       "      <td>1.000000</td>\n",
       "    </tr>\n",
       "    <tr>\n",
       "      <th>50%</th>\n",
       "      <td>4.5</td>\n",
       "      <td>1033.0</td>\n",
       "      <td>5.000000</td>\n",
       "      <td>1.000000</td>\n",
       "    </tr>\n",
       "    <tr>\n",
       "      <th>75%</th>\n",
       "      <td>4.5</td>\n",
       "      <td>1033.0</td>\n",
       "      <td>5.000000</td>\n",
       "      <td>2.000000</td>\n",
       "    </tr>\n",
       "    <tr>\n",
       "      <th>max</th>\n",
       "      <td>4.5</td>\n",
       "      <td>1033.0</td>\n",
       "      <td>5.000000</td>\n",
       "      <td>131.000000</td>\n",
       "    </tr>\n",
       "  </tbody>\n",
       "</table>\n",
       "</div>"
      ],
      "text/plain": [
       "       average_rating  total_reviews  review_rating  \\\n",
       "count           991.0          991.0     991.000000   \n",
       "mean              4.5         1033.0       3.986882   \n",
       "std               0.0            0.0       1.509174   \n",
       "min               4.5         1033.0       1.000000   \n",
       "25%               4.5         1033.0       3.000000   \n",
       "50%               4.5         1033.0       5.000000   \n",
       "75%               4.5         1033.0       5.000000   \n",
       "max               4.5         1033.0       5.000000   \n",
       "\n",
       "       no_of_people_reacted_helpful  \n",
       "count                    193.000000  \n",
       "mean                       4.533679  \n",
       "std                       13.027621  \n",
       "min                        1.000000  \n",
       "25%                        1.000000  \n",
       "50%                        1.000000  \n",
       "75%                        2.000000  \n",
       "max                      131.000000  "
      ]
     },
     "execution_count": 131,
     "metadata": {},
     "output_type": "execute_result"
    }
   ],
   "source": [
    "Vitamatic.describe()"
   ]
  },
  {
   "cell_type": "code",
   "execution_count": 125,
   "id": "216c4152",
   "metadata": {},
   "outputs": [
    {
     "data": {
      "text/plain": [
       "<AxesSubplot:>"
      ]
     },
     "execution_count": 125,
     "metadata": {},
     "output_type": "execute_result"
    },
    {
     "data": {
      "image/png": "[encoded data removed]",
      "text/plain": [
       "<Figure size 640x480 with 1 Axes>"
      ]
     },
     "metadata": {},
     "output_type": "display_data"
    }
   ],
   "source": [
    "Vitamatic[\"review_rating\"].value_counts().plot(kind=\"bar\")"
   ]
  },
  {
   "cell_type": "code",
   "execution_count": null,
   "id": "24c0995d",
   "metadata": {},
   "outputs": [],
   "source": []
  },
  {
   "cell_type": "code",
   "execution_count": null,
   "id": "7dab6ba0",
   "metadata": {},
   "outputs": [],
   "source": []
  },
  {
   "cell_type": "code",
   "execution_count": null,
   "id": "273e94eb",
   "metadata": {},
   "outputs": [],
   "source": []
  },
  {
   "cell_type": "code",
   "execution_count": null,
   "id": "4f0e1ea2",
   "metadata": {},
   "outputs": [],
   "source": []
  },
  {
   "cell_type": "code",
   "execution_count": null,
   "id": "6035b607",
   "metadata": {},
   "outputs": [],
   "source": []
  },
  {
   "cell_type": "code",
   "execution_count": null,
   "id": "703f0f53",
   "metadata": {},
   "outputs": [],
   "source": []
  },
  {
   "cell_type": "code",
   "execution_count": 86,
   "id": "29b91d31",
   "metadata": {},
   "outputs": [
    {
     "data": {
      "image/png": "[encoded data removed]",
      "text/plain": [
       "<Figure size 2000x900 with 1 Axes>"
      ]
     },
     "metadata": {},
     "output_type": "display_data"
    }
   ],
   "source": [
    "import numpy as np\n",
    "\n",
    "x_values = [10, 10, 1, 12, 12, 20]\n",
    "y_values = [4.7, 4.6, 4.5, 4.5, 4.7, 4.5]\n",
    "\n",
    "# Create an array of indices for each x-value\n",
    "indices = np.arange(len(x_values))\n",
    "\n",
    "# Specify the size of the figure\n",
    "fig = plt.figure(figsize=(20, 9))  # Adjust the width and height as needed\n",
    "\n",
    "# Plotting the bar chart with adjusted positions\n",
    "plt.bar(indices, y_values, color='blue', edgecolor='black', alpha=0.7)\n",
    "\n",
    "# Adding labels and title\n",
    "plt.xlabel('mg')\n",
    "plt.ylabel('average_rating')\n",
    "plt.title('Doses versus Average Rating')\n",
    "\n",
    "# Set custom x-axis labels for each unique x-value\n",
    "custom_labels = ['10(Natrol)', '10(Vitafusion)', '1', \"12(Carlyle_180Tablets)\", \"12(Carlyle_300Tablets)\", \"20\"]\n",
    "plt.xticks(indices, custom_labels)\n",
    "\n",
    "# Show the plot\n",
    "plt.show()\n",
    "\n"
   ]
  },
  {
   "cell_type": "code",
   "execution_count": null,
   "id": "ef20a732",
   "metadata": {},
   "outputs": [],
   "source": []
  },
  {
   "cell_type": "code",
   "execution_count": null,
   "id": "3fc601f0",
   "metadata": {},
   "outputs": [],
   "source": []
  },
  {
   "cell_type": "code",
   "execution_count": null,
   "id": "4389fd49",
   "metadata": {},
   "outputs": [],
   "source": []
  },
  {
   "cell_type": "code",
   "execution_count": null,
   "id": "4ae7c1f8",
   "metadata": {},
   "outputs": [],
   "source": []
  },
  {
   "cell_type": "code",
   "execution_count": null,
   "id": "5943238e",
   "metadata": {},
   "outputs": [],
   "source": []
  },
  {
   "cell_type": "code",
   "execution_count": null,
   "id": "4cf1ec1b",
   "metadata": {},
   "outputs": [],
   "source": []
  },
  {
   "cell_type": "code",
   "execution_count": 91,
   "id": "4f300db7",
   "metadata": {},
   "outputs": [
    {
     "data": {
      "image/png": "[encoded data removed]",
      "text/plain": [
       "<Figure size 2000x1000 with 1 Axes>"
      ]
     },
     "metadata": {},
     "output_type": "display_data"
    }
   ],
   "source": [
    "x_values = [10, 10, 1, 12, 12, 20]\n",
    "y_values = [2559, 2833, 1842, 5047, 714, 875]\n",
    "\n",
    "# Create an array of indices for each x-value\n",
    "indices = range(len(x_values))\n",
    "\n",
    "# Specify the size of the figure\n",
    "fig = plt.figure(figsize=(20, 10))\n",
    "\n",
    "# Plotting the bar chart with adjusted positions\n",
    "plt.bar(indices, y_values, color='blue', edgecolor='black', alpha=0.7)\n",
    "\n",
    "# Adding labels and title\n",
    "plt.xlabel('mg')\n",
    "plt.ylabel('total_reviews')\n",
    "plt.title('Doses versus sum_of_people_reacted_helpful')\n",
    "\n",
    "# Set custom x-axis labels for each unique x-value\n",
    "custom_labels = ['10(Natrol)', '10(Vitafusion)', '1', '12(Carlyle_180Tablets)', '12(Carlyle_300Tablets)', '20']\n",
    "plt.xticks(indices, custom_labels)\n",
    "\n",
    "# Show the plot\n",
    "plt.show()\n"
   ]
  },
  {
   "cell_type": "code",
   "execution_count": null,
   "id": "28c951cd",
   "metadata": {},
   "outputs": [],
   "source": []
  },
  {
   "cell_type": "code",
   "execution_count": null,
   "id": "8e25c724",
   "metadata": {},
   "outputs": [],
   "source": []
  },
  {
   "cell_type": "code",
   "execution_count": null,
   "id": "8ff4ba53",
   "metadata": {},
   "outputs": [],
   "source": []
  },
  {
   "cell_type": "code",
   "execution_count": null,
   "id": "1b22177a",
   "metadata": {},
   "outputs": [],
   "source": []
  },
  {
   "cell_type": "code",
   "execution_count": null,
   "id": "8a5205a1",
   "metadata": {},
   "outputs": [],
   "source": []
  },
  {
   "cell_type": "code",
   "execution_count": 133,
   "id": "f6a8ef65",
   "metadata": {},
   "outputs": [
    {
     "data": {
      "image/png": "[encoded data removed]",
      "text/plain": [
       "<Figure size 2000x1000 with 1 Axes>"
      ]
     },
     "metadata": {},
     "output_type": "display_data"
    }
   ],
   "source": [
    "x_values = [10, 10, 1, 12, 12, 20]\n",
    "y_values = [2749, 5151, 1316, 6595, 768, 1033]\n",
    "\n",
    "# Create an array of indices for each x-value\n",
    "indices = range(len(x_values))\n",
    "\n",
    "# Specify the size of the figure\n",
    "fig = plt.figure(figsize=(20, 10))\n",
    "\n",
    "# Plotting the bar chart with adjusted positions\n",
    "plt.bar(indices, y_values, color='blue', edgecolor='black', alpha=0.7)\n",
    "\n",
    "# Adding labels and title\n",
    "plt.xlabel('mg')\n",
    "plt.ylabel('total_reviews')\n",
    "plt.title('Doses versus total_reviews')\n",
    "\n",
    "# Set custom x-axis labels for each unique x-value\n",
    "custom_labels = ['10(Natrol)', '10(Vitafusion)', '1', '12(Carlyle_180Tablets)', '12(Carlyle_300Tablets)', '20']\n",
    "plt.xticks(indices, custom_labels)\n",
    "\n",
    "# Show the plot\n",
    "plt.show()"
   ]
  },
  {
   "cell_type": "code",
   "execution_count": null,
   "id": "14d23bf9",
   "metadata": {},
   "outputs": [],
   "source": []
  },
  {
   "cell_type": "code",
   "execution_count": null,
   "id": "bd5c551d",
   "metadata": {},
   "outputs": [],
   "source": []
  },
  {
   "cell_type": "code",
   "execution_count": null,
   "id": "36d37089",
   "metadata": {},
   "outputs": [],
   "source": []
  },
  {
   "cell_type": "code",
   "execution_count": null,
   "id": "2b761b2a",
   "metadata": {},
   "outputs": [],
   "source": []
  },
  {
   "cell_type": "code",
   "execution_count": null,
   "id": "969107bf",
   "metadata": {},
   "outputs": [],
   "source": []
  },
  {
   "cell_type": "code",
   "execution_count": null,
   "id": "28f169f7",
   "metadata": {},
   "outputs": [],
   "source": []
  },
  {
   "cell_type": "code",
   "execution_count": 119,
   "id": "ec98e24c",
   "metadata": {
    "scrolled": true
   },
   "outputs": [
    {
     "data": {
      "image/png": "[encoded data removed]",
      "text/plain": [
       "<Figure size 2200x1000 with 1 Axes>"
      ]
     },
     "metadata": {},
     "output_type": "display_data"
    }
   ],
   "source": [
    "import pandas as pd\n",
    "import matplotlib.pyplot as plt\n",
    "import numpy as np\n",
    "\n",
    "# Assuming 'review_date' is in a string format, convert it to datetime for each DataFrame\n",
    "Natrol['review_date'] = pd.to_datetime(Natrol['review_date'])\n",
    "Vitafusion['review_date'] = pd.to_datetime(Vitafusion['review_date'])\n",
    "ZzzQuil['review_date'] = pd.to_datetime(ZzzQuil['review_date'])\n",
    "Carlyle_180Tablets['review_date'] = pd.to_datetime(Carlyle_180Tablets['review_date'])\n",
    "Carlyle_300Tablets['review_date'] = pd.to_datetime(Carlyle_300Tablets['review_date'])\n",
    "Vitamatic['review_date'] = pd.to_datetime(Vitamatic['review_date'])\n",
    "\n",
    "# Count the occurrences of each date and sort by the datetime index for each DataFrame\n",
    "review_counts_natrol = Natrol['review_date'].value_counts().sort_index()\n",
    "review_counts_vitafusion = Vitafusion['review_date'].value_counts().sort_index()\n",
    "review_counts_zzzquil = ZzzQuil['review_date'].value_counts().sort_index()\n",
    "review_counts_carlyle_180 = Carlyle_180Tablets['review_date'].value_counts().sort_index()\n",
    "review_counts_carlyle_300 = Carlyle_300Tablets['review_date'].value_counts().sort_index()\n",
    "review_counts_vitamatic = Vitamatic['review_date'].value_counts().sort_index()\n",
    "\n",
    "# Plot the data as grouped bar charts for each DataFrame on the same plot\n",
    "plt.figure(figsize=(22, 10))\n",
    "bar_width = 0.15\n",
    "\n",
    "plt.bar(review_counts_natrol.index - np.timedelta64(int(bar_width * 1e13), 'ns'), review_counts_natrol, width=bar_width, color='blue', label='Natrol')\n",
    "plt.bar(review_counts_vitafusion.index, review_counts_vitafusion, width=bar_width, color='green', label='Vitafusion')\n",
    "plt.bar(review_counts_zzzquil.index + np.timedelta64(int(bar_width * 1e13), 'ns'), review_counts_zzzquil, width=bar_width, color='orange', label='ZzzQuil')\n",
    "plt.bar(review_counts_carlyle_180.index + 2 * np.timedelta64(int(bar_width * 1e13), 'ns'), review_counts_carlyle_180, width=bar_width, color='red', label='Carlyle_180Tablets')\n",
    "plt.bar(review_counts_carlyle_300.index + 3 * np.timedelta64(int(bar_width * 1e13), 'ns'), review_counts_carlyle_300, width=bar_width, color='purple', label='Carlyle_300Tablets')\n",
    "plt.bar(review_counts_vitamatic.index + 4 * np.timedelta64(int(bar_width * 1e13), 'ns'), review_counts_vitamatic, width=bar_width, color='cyan', label='Vitamatic')\n",
    "\n",
    "# Adding labels and title\n",
    "plt.xlabel('Review Date')\n",
    "plt.ylabel('Number of Reviews')\n",
    "plt.title('Number of Reviews Over Time - Combined Products')\n",
    "\n",
    "# Rotating x-axis labels for better readability\n",
    "plt.xticks(rotation=45)\n",
    "\n",
    "legend_labels = ['10mg(Natrol)', '10mg(Vitafusion)', \"1mg\", \"12mg(180)\", \"12mg()]\n",
    "plt.legend(labels=legend_labels)\n",
    "\n",
    "# Show the plot\n",
    "plt.show()\n"
   ]
  }
 ],
 "metadata": {
  "kernelspec": {
   "display_name": "Python 3 (ipykernel)",
   "language": "python",
   "name": "python3"
  },
  "language_info": {
   "codemirror_mode": {
    "name": "ipython",
    "version": 3
   },
   "file_extension": ".py",
   "mimetype": "text/x-python",
   "name": "python",
   "nbconvert_exporter": "python",
   "pygments_lexer": "ipython3",
   "version": "3.9.13"
  }
 },
 "nbformat": 4,
 "nbformat_minor": 5
}
