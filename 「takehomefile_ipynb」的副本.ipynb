{
  "cells": [
    {
      "cell_type": "markdown",
      "metadata": {
        "id": "view-in-github",
        "colab_type": "text"
      },
      "source": [
        "<a href=\"https://colab.research.google.com/github/Leroychen0702/Assignment-/blob/main/%E3%80%8Ctakehomefile_ipynb%E3%80%8D%E7%9A%84%E5%89%AF%E6%9C%AC.ipynb\" target=\"_parent\"><img src=\"https://colab.research.google.com/assets/colab-badge.svg\" alt=\"Open In Colab\"/></a>"
      ]
    },
    {
      "cell_type": "markdown",
      "id": "eef90170",
      "metadata": {
        "id": "eef90170"
      },
      "source": [
        "![Airbnb](https://raw.githubusercontent.com/interviewquery/takehomes/airbnb_1/airbnb_1/logo.png)\n",
        "\n",
        "# TAKE-HOME CHALLENGE: Data Science - Analytics\n",
        "\n",
        "Airbnb is a two-sided marketplace that matches guests to hosts. The\n",
        "booking flow at Airbnb is as follows: a guest finds an available room\n",
        "(listing) that they like, and then they contact the host. Once the guest\n",
        "finds a listing they are interested in, there are three ways to send the\n",
        "host an inquiry: `contact_me`, `book_it`, or `instant_book` (detailed at\n",
        "the bottom of this document). Upon receiving the inquiry, the host can\n",
        "then decide whether or not to accept the request (for `contact_me` and\n",
        "`book_it` methods; `instant_book` is auto-accepted). One of our\n",
        "goals at Airbnb is to increase bookings on our platform.\n",
        "\n",
        "## Prompt\n",
        "\n",
        "You are the first data scientist to join a cross-functional Product and\n",
        "Operations team working to grow bookings in Rio de Janeiro. The team\n",
        "asks you for help with the following:\n",
        "\n",
        "1.  What key metrics would you propose to monitor over time the success\n",
        "    of the team's efforts in improving the guest host matching process\n",
        "    and why? Clearly define your metric(s) and explain how each is\n",
        "    computed.\n",
        "\n",
        "2.  What areas should we invest in to increase the number of successful\n",
        "    bookings in Rio de Janeiro? What segments are doing well and what\n",
        "    could be improved? ​ ​Propose 2-3 specific recommendations (business\n",
        "    initiatives and product changes) that could address these\n",
        "    opportunities. Demonstrate rationale behind each recommendation AND\n",
        "    prioritize your recommendations in order of their estimated impact.\n",
        "\n",
        "3.  There is also interest from executives at Airbnb in the work you\n",
        "    are doing, and a desire to understand the broader framing of the\n",
        "    challenge of matching supply and demand, thinking beyond the data\n",
        "    provided. What other research, experiments, or approaches could help\n",
        "    the company get more clarity on the problem?\n",
        "\n",
        "## Assignment\n",
        "S​ummarize your recommendations in response to the questions above in a Jupyter Notebook intended for\n",
        "the Head of Product and VP of Operations (who is not technical). Include\n",
        "an organized appendix sharing the details of your work conducted for the\n",
        "Rio team, that would be useful for the data team to understand your\n",
        "work.\n",
        "\n",
        "\n",
        "\n",
        "\n",
        "\n",
        "\n",
        "## Grading\n",
        "\n",
        "Your assignment will be judged according to:\n",
        "\n",
        "1.  The analytical approach and clarity of your graphs, tables,\n",
        "    visualizations,\n",
        "\n",
        "2.  The data decisions you made and reproducibility of the analysis,\n",
        "\n",
        "3.  Strength of recommendations, prioritizations, and rationale behind\n",
        "    those,\n",
        "\n",
        "4.  The narrative of your presentation and ability to effectively\n",
        "    communicate to non-technical executives, 5) How well you followed\n",
        "    the directions.\n",
        "\n",
        "## Data Provided\n",
        "\n",
        "### `contacts.csv`​​\n",
        "Contains a row for every time that a user makes an\n",
        "inquiry for a stay at a listing in Rio de Janeiro.\n",
        "\n",
        "-   `id_guest_anon` -​ id of the guest making the inquiry.\n",
        "\n",
        "-   `id_host_anon` -​ id of the host of the listing to which the inquiry is\n",
        "    made.\n",
        "\n",
        "-   `id_listing_anon` -​ id of the listing to which the inquiry is made.\n",
        "\n",
        "-   `ts_interaction_first` -​ UTC timestamp of the moment the inquiry is\n",
        "    made.\n",
        "\n",
        "-   `ts_reply_at_first` -​ UTC timestamp of the moment the host replies to\n",
        "    the inquiry, if so.\n",
        "- `ts_accepted_at_first` - UTC timestamp of the\n",
        "    moment the host accepts the inquiry, if so.​\n",
        "    \n",
        "-    `ts_booking_at` - UTC\n",
        "    timestamp of the moment the booking is made, if so.\n",
        "\n",
        "-   `ds_checkin_first` -​ Date stamp of the check-in date of the inquiry.\n",
        "\n",
        "-   `ds_checkout_first` ​- Date stamp of the check-out date of the inquiry.\n",
        "\n",
        "-   `m_guests` ​- The number of guests the inquiry is for.\n",
        "\n",
        "-   `m_interactions` -​ The total number of messages sent by both the guest\n",
        "    and host.\n",
        "\n",
        "-   `m_first_message_length_in_characters` -​ Number of characters in the\n",
        "    first message sent by the guest, if a message was sent\n",
        "\n",
        "-   `contact_channel_first` -​ The contact channel through which the\n",
        "    inquiry was made. One of {contact_me, book_it, instant_book}. \\*See\n",
        "    bottom of page for more detail\\*\n",
        "\n",
        "-   `guest_user_stage_first` ​- Indicates whether the user has made a\n",
        "    booking before sending the inquiry (\"past booker\"). If the user has\n",
        "    not booked before, then the user is a new user.\n",
        "\n",
        "### `listings.csv`\n",
        "Contains data for every listing in the market\n",
        "\n",
        "-   `id_listing_anon` ​- anonymized id of the listing\n",
        "\n",
        "-   `room_type` -​ indicates whether the room is an entire home, private\n",
        "    room, or shared room\n",
        "\n",
        "-   `listing_neighborhood` -​ the neighborhood of the listing\n",
        "\n",
        "-   `total_reviews` -​ the total number of reviews of the listing (at the\n",
        "    time the data was pulled).\n",
        "\n",
        "### Users\n",
        "Contains data for every user\n",
        "\n",
        "-   `id_user_anon` ​- anonymized id of user\n",
        "\n",
        "-   `words_in_user_profile` - the number of words in the \"about me\"\n",
        "    section of the user's Airbnb profile (at the time of contact)\n",
        "\n",
        "-   `country` -​ origin country of the user\n",
        "\n",
        "## Further Information\n",
        "\n",
        "There are three ways to book a listing on Airbnb:\n",
        "\n",
        "1)  `contact_me` -​ The guests writes a message to the host to inquire\n",
        "    about the listing. The host has the option to 1) pre-​approve the\n",
        "    guest to book their place, or 2) they can reject, or 3) they can\n",
        "    write a free text message with no explicit acceptance or rejection.\n",
        "    If the host pre-​approves, the guest can then go ahead and click to\n",
        "    make the booking (but is not obligated to).\n",
        "\n",
        "2)  `book_it` ​- The guest puts money down to book the place directly,\n",
        "    but the host has to accept the reservation request. If the host\n",
        "    accepts, the booking happens automatically. If you have used Airbnb\n",
        "    before, this shows up as a button labeled \"Request to book\".\n",
        "\n",
        "3)  `instant_book`​ -​ The guest books the listing directly, without any\n",
        "    need for the host to accept or reject actively (it is auto​-accepted\n",
        "    by the host). This shows up as a button labeled \"Book\".\n",
        "\n",
        "### Note​\n",
        "A host can opt-in to the `instant_book` feature. If a host\n",
        "does so, a guest can use the `contact_me` or `instant_book` channels\n",
        "for booking that particular listing, but cannot use the `book_it`\n",
        "functionality. Alternatively, if a host does not opt in, a guest can use\n",
        "the `contact_me` or `book_it` channels only. We suggest that you\n",
        "browse the Airbnb website and look at listings to see the different ways\n",
        "that you can message a host.\n"
      ]
    },
    {
      "cell_type": "code",
      "execution_count": 3,
      "id": "cd210ece",
      "metadata": {
        "id": "cd210ece",
        "colab": {
          "base_uri": "https://localhost:8080/"
        },
        "outputId": "083829af-6001-4b8c-b240-dd146e4b2689"
      },
      "outputs": [
        {
          "output_type": "stream",
          "name": "stdout",
          "text": [
            "Cloning into 'takehomes'...\n",
            "remote: Enumerating objects: 1963, done.\u001b[K\n",
            "remote: Counting objects: 100% (1963/1963), done.\u001b[K\n",
            "remote: Compressing objects: 100% (1220/1220), done.\u001b[K\n",
            "remote: Total 1963 (delta 752), reused 1927 (delta 726), pack-reused 0\u001b[K\n",
            "Receiving objects: 100% (1963/1963), 297.43 MiB | 26.71 MiB/s, done.\n",
            "Resolving deltas: 100% (752/752), done.\n",
            "/content/takehomes/airbnb_1/takehomes/airbnb_1\n",
            "contacts.csv  file.json  listings.csv  logo.png  takehomefile.ipynb  users.csv\n"
          ]
        }
      ],
      "source": [
        "!git clone --branch airbnb_1 https://github.com/interviewquery/takehomes.git\n",
        "%cd takehomes/airbnb_1\n",
        "!ls"
      ]
    },
    {
      "cell_type": "code",
      "execution_count": 4,
      "id": "59ecda69",
      "metadata": {
        "id": "59ecda69"
      },
      "outputs": [],
      "source": [
        " import pandas as pd\n",
        " import matplotlib.pyplot as plt"
      ]
    },
    {
      "cell_type": "code",
      "source": [
        "df = pd.read_csv(\"contacts.csv\")\n",
        "df.head()"
      ],
      "metadata": {
        "colab": {
          "base_uri": "https://localhost:8080/",
          "height": 486
        },
        "id": "OxFGlqmT0VUd",
        "outputId": "556b15fc-7c0a-4e2f-ebfb-6c0e04635a64"
      },
      "id": "OxFGlqmT0VUd",
      "execution_count": 71,
      "outputs": [
        {
          "output_type": "execute_result",
          "data": {
            "text/plain": [
              "                          id_guest_anon                          id_host_anon  \\\n",
              "0  da8656a1-51af-4f38-b1c4-94be1f585157  5426897d-960d-4013-9e38-606ae746793c   \n",
              "1  8590d6f1-8bc9-4e8b-bdfb-de78f69fcf37  f30417c5-6df4-45ac-bfc2-6ad1cce398ab   \n",
              "2  ebcd83ba-bda1-47eb-9680-2dd04ccf3988  13cbf50a-3272-45d4-9866-a06b6ea1b99a   \n",
              "3  b0af8848-fe2a-4ef1-991e-26ab3066feb3  01614601-d5a4-4776-ab9b-c10d3b865bf0   \n",
              "4  5ddbbcc3-ac1a-4d8a-b6f8-0f675b76d1b2  f2fed6f3-4c5c-453d-9e64-37c62b8bd06d   \n",
              "\n",
              "                        id_listing_anon   ts_interaction_first  \\\n",
              "0  a408a8b2-0d44-4513-a611-3736d0409bb2    2016-04-21 02:55:53   \n",
              "1  e387c705-0aeb-464c-9375-ece63be6f006    2016-02-16 22:14:01   \n",
              "2  d1eb1960-938f-4305-a353-51e224414dd4    2016-01-27 23:33:38   \n",
              "3  855f6779-346c-45fc-a64b-ea133250ca7a    2016-05-05 14:42:52   \n",
              "4  f2928a59-c5e7-42b2-9c37-240a40f38dc0  2016-06-23 03:09:25.0   \n",
              "\n",
              "       ts_reply_at_first   ts_accepted_at_first          ts_booking_at  \\\n",
              "0  2016-04-21 03:15:00.0  2016-04-21 03:15:00.0  2016-04-21 03:15:00.0   \n",
              "1  2016-02-16 23:37:36.0                    NaN                    NaN   \n",
              "2  2016-01-28 02:12:47.0                    NaN                    NaN   \n",
              "3  2016-05-05 15:17:40.0  2016-05-05 15:17:40.0                    NaN   \n",
              "4  2016-06-23 03:09:26.0  2016-06-23 03:09:33.0  2016-06-23 03:09:33.0   \n",
              "\n",
              "  ds_checkin_first ds_checkout_first  m_guests  m_interactions  \\\n",
              "0       2016-08-02        2016-08-06       4.0              30   \n",
              "1       2016-08-11        2016-08-22       5.0               2   \n",
              "2       2016-03-14        2016-03-23       1.0               3   \n",
              "3       2016-05-27        2016-05-29       2.0               3   \n",
              "4       2016-08-19        2016-08-21       3.0              25   \n",
              "\n",
              "   m_first_message_length_in_characters contact_channel_first  \\\n",
              "0                                  31.0               book_it   \n",
              "1                                 312.0            contact_me   \n",
              "2                                 164.0            contact_me   \n",
              "3                                 203.0            contact_me   \n",
              "4                                   0.0          instant_book   \n",
              "\n",
              "  guest_user_stage_first  \n",
              "0            past_booker  \n",
              "1            past_booker  \n",
              "2                    new  \n",
              "3                    new  \n",
              "4            past_booker  "
            ],
            "text/html": [
              "\n",
              "  <div id=\"df-dea3cfc9-ccd2-4760-b590-ea3b0b479f33\" class=\"colab-df-container\">\n",
              "    <div>\n",
              "<style scoped>\n",
              "    .dataframe tbody tr th:only-of-type {\n",
              "        vertical-align: middle;\n",
              "    }\n",
              "\n",
              "    .dataframe tbody tr th {\n",
              "        vertical-align: top;\n",
              "    }\n",
              "\n",
              "    .dataframe thead th {\n",
              "        text-align: right;\n",
              "    }\n",
              "</style>\n",
              "<table border=\"1\" class=\"dataframe\">\n",
              "  <thead>\n",
              "    <tr style=\"text-align: right;\">\n",
              "      <th></th>\n",
              "      <th>id_guest_anon</th>\n",
              "      <th>id_host_anon</th>\n",
              "      <th>id_listing_anon</th>\n",
              "      <th>ts_interaction_first</th>\n",
              "      <th>ts_reply_at_first</th>\n",
              "      <th>ts_accepted_at_first</th>\n",
              "      <th>ts_booking_at</th>\n",
              "      <th>ds_checkin_first</th>\n",
              "      <th>ds_checkout_first</th>\n",
              "      <th>m_guests</th>\n",
              "      <th>m_interactions</th>\n",
              "      <th>m_first_message_length_in_characters</th>\n",
              "      <th>contact_channel_first</th>\n",
              "      <th>guest_user_stage_first</th>\n",
              "    </tr>\n",
              "  </thead>\n",
              "  <tbody>\n",
              "    <tr>\n",
              "      <th>0</th>\n",
              "      <td>da8656a1-51af-4f38-b1c4-94be1f585157</td>\n",
              "      <td>5426897d-960d-4013-9e38-606ae746793c</td>\n",
              "      <td>a408a8b2-0d44-4513-a611-3736d0409bb2</td>\n",
              "      <td>2016-04-21 02:55:53</td>\n",
              "      <td>2016-04-21 03:15:00.0</td>\n",
              "      <td>2016-04-21 03:15:00.0</td>\n",
              "      <td>2016-04-21 03:15:00.0</td>\n",
              "      <td>2016-08-02</td>\n",
              "      <td>2016-08-06</td>\n",
              "      <td>4.0</td>\n",
              "      <td>30</td>\n",
              "      <td>31.0</td>\n",
              "      <td>book_it</td>\n",
              "      <td>past_booker</td>\n",
              "    </tr>\n",
              "    <tr>\n",
              "      <th>1</th>\n",
              "      <td>8590d6f1-8bc9-4e8b-bdfb-de78f69fcf37</td>\n",
              "      <td>f30417c5-6df4-45ac-bfc2-6ad1cce398ab</td>\n",
              "      <td>e387c705-0aeb-464c-9375-ece63be6f006</td>\n",
              "      <td>2016-02-16 22:14:01</td>\n",
              "      <td>2016-02-16 23:37:36.0</td>\n",
              "      <td>NaN</td>\n",
              "      <td>NaN</td>\n",
              "      <td>2016-08-11</td>\n",
              "      <td>2016-08-22</td>\n",
              "      <td>5.0</td>\n",
              "      <td>2</td>\n",
              "      <td>312.0</td>\n",
              "      <td>contact_me</td>\n",
              "      <td>past_booker</td>\n",
              "    </tr>\n",
              "    <tr>\n",
              "      <th>2</th>\n",
              "      <td>ebcd83ba-bda1-47eb-9680-2dd04ccf3988</td>\n",
              "      <td>13cbf50a-3272-45d4-9866-a06b6ea1b99a</td>\n",
              "      <td>d1eb1960-938f-4305-a353-51e224414dd4</td>\n",
              "      <td>2016-01-27 23:33:38</td>\n",
              "      <td>2016-01-28 02:12:47.0</td>\n",
              "      <td>NaN</td>\n",
              "      <td>NaN</td>\n",
              "      <td>2016-03-14</td>\n",
              "      <td>2016-03-23</td>\n",
              "      <td>1.0</td>\n",
              "      <td>3</td>\n",
              "      <td>164.0</td>\n",
              "      <td>contact_me</td>\n",
              "      <td>new</td>\n",
              "    </tr>\n",
              "    <tr>\n",
              "      <th>3</th>\n",
              "      <td>b0af8848-fe2a-4ef1-991e-26ab3066feb3</td>\n",
              "      <td>01614601-d5a4-4776-ab9b-c10d3b865bf0</td>\n",
              "      <td>855f6779-346c-45fc-a64b-ea133250ca7a</td>\n",
              "      <td>2016-05-05 14:42:52</td>\n",
              "      <td>2016-05-05 15:17:40.0</td>\n",
              "      <td>2016-05-05 15:17:40.0</td>\n",
              "      <td>NaN</td>\n",
              "      <td>2016-05-27</td>\n",
              "      <td>2016-05-29</td>\n",
              "      <td>2.0</td>\n",
              "      <td>3</td>\n",
              "      <td>203.0</td>\n",
              "      <td>contact_me</td>\n",
              "      <td>new</td>\n",
              "    </tr>\n",
              "    <tr>\n",
              "      <th>4</th>\n",
              "      <td>5ddbbcc3-ac1a-4d8a-b6f8-0f675b76d1b2</td>\n",
              "      <td>f2fed6f3-4c5c-453d-9e64-37c62b8bd06d</td>\n",
              "      <td>f2928a59-c5e7-42b2-9c37-240a40f38dc0</td>\n",
              "      <td>2016-06-23 03:09:25.0</td>\n",
              "      <td>2016-06-23 03:09:26.0</td>\n",
              "      <td>2016-06-23 03:09:33.0</td>\n",
              "      <td>2016-06-23 03:09:33.0</td>\n",
              "      <td>2016-08-19</td>\n",
              "      <td>2016-08-21</td>\n",
              "      <td>3.0</td>\n",
              "      <td>25</td>\n",
              "      <td>0.0</td>\n",
              "      <td>instant_book</td>\n",
              "      <td>past_booker</td>\n",
              "    </tr>\n",
              "  </tbody>\n",
              "</table>\n",
              "</div>\n",
              "    <div class=\"colab-df-buttons\">\n",
              "\n",
              "  <div class=\"colab-df-container\">\n",
              "    <button class=\"colab-df-convert\" onclick=\"convertToInteractive('df-dea3cfc9-ccd2-4760-b590-ea3b0b479f33')\"\n",
              "            title=\"Convert this dataframe to an interactive table.\"\n",
              "            style=\"display:none;\">\n",
              "\n",
              "  <svg xmlns=\"http://www.w3.org/2000/svg\" height=\"24px\" viewBox=\"0 -960 960 960\">\n",
              "    <path d=\"M120-120v-720h720v720H120Zm60-500h600v-160H180v160Zm220 220h160v-160H400v160Zm0 220h160v-160H400v160ZM180-400h160v-160H180v160Zm440 0h160v-160H620v160ZM180-180h160v-160H180v160Zm440 0h160v-160H620v160Z\"/>\n",
              "  </svg>\n",
              "    </button>\n",
              "\n",
              "  <style>\n",
              "    .colab-df-container {\n",
              "      display:flex;\n",
              "      gap: 12px;\n",
              "    }\n",
              "\n",
              "    .colab-df-convert {\n",
              "      background-color: #E8F0FE;\n",
              "      border: none;\n",
              "      border-radius: 50%;\n",
              "      cursor: pointer;\n",
              "      display: none;\n",
              "      fill: #1967D2;\n",
              "      height: 32px;\n",
              "      padding: 0 0 0 0;\n",
              "      width: 32px;\n",
              "    }\n",
              "\n",
              "    .colab-df-convert:hover {\n",
              "      background-color: #E2EBFA;\n",
              "      box-shadow: 0px 1px 2px rgba(60, 64, 67, 0.3), 0px 1px 3px 1px rgba(60, 64, 67, 0.15);\n",
              "      fill: #174EA6;\n",
              "    }\n",
              "\n",
              "    .colab-df-buttons div {\n",
              "      margin-bottom: 4px;\n",
              "    }\n",
              "\n",
              "    [theme=dark] .colab-df-convert {\n",
              "      background-color: #3B4455;\n",
              "      fill: #D2E3FC;\n",
              "    }\n",
              "\n",
              "    [theme=dark] .colab-df-convert:hover {\n",
              "      background-color: #434B5C;\n",
              "      box-shadow: 0px 1px 3px 1px rgba(0, 0, 0, 0.15);\n",
              "      filter: drop-shadow(0px 1px 2px rgba(0, 0, 0, 0.3));\n",
              "      fill: #FFFFFF;\n",
              "    }\n",
              "  </style>\n",
              "\n",
              "    <script>\n",
              "      const buttonEl =\n",
              "        document.querySelector('#df-dea3cfc9-ccd2-4760-b590-ea3b0b479f33 button.colab-df-convert');\n",
              "      buttonEl.style.display =\n",
              "        google.colab.kernel.accessAllowed ? 'block' : 'none';\n",
              "\n",
              "      async function convertToInteractive(key) {\n",
              "        const element = document.querySelector('#df-dea3cfc9-ccd2-4760-b590-ea3b0b479f33');\n",
              "        const dataTable =\n",
              "          await google.colab.kernel.invokeFunction('convertToInteractive',\n",
              "                                                    [key], {});\n",
              "        if (!dataTable) return;\n",
              "\n",
              "        const docLinkHtml = 'Like what you see? Visit the ' +\n",
              "          '<a target=\"_blank\" href=https://colab.research.google.com/notebooks/data_table.ipynb>data table notebook</a>'\n",
              "          + ' to learn more about interactive tables.';\n",
              "        element.innerHTML = '';\n",
              "        dataTable['output_type'] = 'display_data';\n",
              "        await google.colab.output.renderOutput(dataTable, element);\n",
              "        const docLink = document.createElement('div');\n",
              "        docLink.innerHTML = docLinkHtml;\n",
              "        element.appendChild(docLink);\n",
              "      }\n",
              "    </script>\n",
              "  </div>\n",
              "\n",
              "\n",
              "<div id=\"df-d3f64bb3-1acf-47ed-899e-f063effaf8b9\">\n",
              "  <button class=\"colab-df-quickchart\" onclick=\"quickchart('df-d3f64bb3-1acf-47ed-899e-f063effaf8b9')\"\n",
              "            title=\"Suggest charts.\"\n",
              "            style=\"display:none;\">\n",
              "\n",
              "<svg xmlns=\"http://www.w3.org/2000/svg\" height=\"24px\"viewBox=\"0 0 24 24\"\n",
              "     width=\"24px\">\n",
              "    <g>\n",
              "        <path d=\"M19 3H5c-1.1 0-2 .9-2 2v14c0 1.1.9 2 2 2h14c1.1 0 2-.9 2-2V5c0-1.1-.9-2-2-2zM9 17H7v-7h2v7zm4 0h-2V7h2v10zm4 0h-2v-4h2v4z\"/>\n",
              "    </g>\n",
              "</svg>\n",
              "  </button>\n",
              "\n",
              "<style>\n",
              "  .colab-df-quickchart {\n",
              "      --bg-color: #E8F0FE;\n",
              "      --fill-color: #1967D2;\n",
              "      --hover-bg-color: #E2EBFA;\n",
              "      --hover-fill-color: #174EA6;\n",
              "      --disabled-fill-color: #AAA;\n",
              "      --disabled-bg-color: #DDD;\n",
              "  }\n",
              "\n",
              "  [theme=dark] .colab-df-quickchart {\n",
              "      --bg-color: #3B4455;\n",
              "      --fill-color: #D2E3FC;\n",
              "      --hover-bg-color: #434B5C;\n",
              "      --hover-fill-color: #FFFFFF;\n",
              "      --disabled-bg-color: #3B4455;\n",
              "      --disabled-fill-color: #666;\n",
              "  }\n",
              "\n",
              "  .colab-df-quickchart {\n",
              "    background-color: var(--bg-color);\n",
              "    border: none;\n",
              "    border-radius: 50%;\n",
              "    cursor: pointer;\n",
              "    display: none;\n",
              "    fill: var(--fill-color);\n",
              "    height: 32px;\n",
              "    padding: 0;\n",
              "    width: 32px;\n",
              "  }\n",
              "\n",
              "  .colab-df-quickchart:hover {\n",
              "    background-color: var(--hover-bg-color);\n",
              "    box-shadow: 0 1px 2px rgba(60, 64, 67, 0.3), 0 1px 3px 1px rgba(60, 64, 67, 0.15);\n",
              "    fill: var(--button-hover-fill-color);\n",
              "  }\n",
              "\n",
              "  .colab-df-quickchart-complete:disabled,\n",
              "  .colab-df-quickchart-complete:disabled:hover {\n",
              "    background-color: var(--disabled-bg-color);\n",
              "    fill: var(--disabled-fill-color);\n",
              "    box-shadow: none;\n",
              "  }\n",
              "\n",
              "  .colab-df-spinner {\n",
              "    border: 2px solid var(--fill-color);\n",
              "    border-color: transparent;\n",
              "    border-bottom-color: var(--fill-color);\n",
              "    animation:\n",
              "      spin 1s steps(1) infinite;\n",
              "  }\n",
              "\n",
              "  @keyframes spin {\n",
              "    0% {\n",
              "      border-color: transparent;\n",
              "      border-bottom-color: var(--fill-color);\n",
              "      border-left-color: var(--fill-color);\n",
              "    }\n",
              "    20% {\n",
              "      border-color: transparent;\n",
              "      border-left-color: var(--fill-color);\n",
              "      border-top-color: var(--fill-color);\n",
              "    }\n",
              "    30% {\n",
              "      border-color: transparent;\n",
              "      border-left-color: var(--fill-color);\n",
              "      border-top-color: var(--fill-color);\n",
              "      border-right-color: var(--fill-color);\n",
              "    }\n",
              "    40% {\n",
              "      border-color: transparent;\n",
              "      border-right-color: var(--fill-color);\n",
              "      border-top-color: var(--fill-color);\n",
              "    }\n",
              "    60% {\n",
              "      border-color: transparent;\n",
              "      border-right-color: var(--fill-color);\n",
              "    }\n",
              "    80% {\n",
              "      border-color: transparent;\n",
              "      border-right-color: var(--fill-color);\n",
              "      border-bottom-color: var(--fill-color);\n",
              "    }\n",
              "    90% {\n",
              "      border-color: transparent;\n",
              "      border-bottom-color: var(--fill-color);\n",
              "    }\n",
              "  }\n",
              "</style>\n",
              "\n",
              "  <script>\n",
              "    async function quickchart(key) {\n",
              "      const quickchartButtonEl =\n",
              "        document.querySelector('#' + key + ' button');\n",
              "      quickchartButtonEl.disabled = true;  // To prevent multiple clicks.\n",
              "      quickchartButtonEl.classList.add('colab-df-spinner');\n",
              "      try {\n",
              "        const charts = await google.colab.kernel.invokeFunction(\n",
              "            'suggestCharts', [key], {});\n",
              "      } catch (error) {\n",
              "        console.error('Error during call to suggestCharts:', error);\n",
              "      }\n",
              "      quickchartButtonEl.classList.remove('colab-df-spinner');\n",
              "      quickchartButtonEl.classList.add('colab-df-quickchart-complete');\n",
              "    }\n",
              "    (() => {\n",
              "      let quickchartButtonEl =\n",
              "        document.querySelector('#df-d3f64bb3-1acf-47ed-899e-f063effaf8b9 button');\n",
              "      quickchartButtonEl.style.display =\n",
              "        google.colab.kernel.accessAllowed ? 'block' : 'none';\n",
              "    })();\n",
              "  </script>\n",
              "</div>\n",
              "    </div>\n",
              "  </div>\n"
            ]
          },
          "metadata": {},
          "execution_count": 71
        }
      ]
    },
    {
      "cell_type": "code",
      "source": [
        "df['ts_booking_at'] = pd.to_datetime(df['ts_booking_at'])\n",
        "df['ts_interaction_first'] = pd.to_datetime(df['ts_interaction_first'])\n",
        "df['time'] = df['ts_booking_at'] - df['ts_interaction_first']\n",
        "df.head()\n"
      ],
      "metadata": {
        "colab": {
          "base_uri": "https://localhost:8080/",
          "height": 486
        },
        "id": "bCCNwkf9C5ME",
        "outputId": "9fb6987b-c82c-4f0d-aefa-90b6f44d6ca2"
      },
      "id": "bCCNwkf9C5ME",
      "execution_count": 76,
      "outputs": [
        {
          "output_type": "execute_result",
          "data": {
            "text/plain": [
              "                          id_guest_anon                          id_host_anon  \\\n",
              "0  da8656a1-51af-4f38-b1c4-94be1f585157  5426897d-960d-4013-9e38-606ae746793c   \n",
              "1  8590d6f1-8bc9-4e8b-bdfb-de78f69fcf37  f30417c5-6df4-45ac-bfc2-6ad1cce398ab   \n",
              "2  ebcd83ba-bda1-47eb-9680-2dd04ccf3988  13cbf50a-3272-45d4-9866-a06b6ea1b99a   \n",
              "3  b0af8848-fe2a-4ef1-991e-26ab3066feb3  01614601-d5a4-4776-ab9b-c10d3b865bf0   \n",
              "4  5ddbbcc3-ac1a-4d8a-b6f8-0f675b76d1b2  f2fed6f3-4c5c-453d-9e64-37c62b8bd06d   \n",
              "\n",
              "                        id_listing_anon ts_interaction_first  \\\n",
              "0  a408a8b2-0d44-4513-a611-3736d0409bb2  2016-04-21 02:55:53   \n",
              "1  e387c705-0aeb-464c-9375-ece63be6f006  2016-02-16 22:14:01   \n",
              "2  d1eb1960-938f-4305-a353-51e224414dd4  2016-01-27 23:33:38   \n",
              "3  855f6779-346c-45fc-a64b-ea133250ca7a  2016-05-05 14:42:52   \n",
              "4  f2928a59-c5e7-42b2-9c37-240a40f38dc0  2016-06-23 03:09:25   \n",
              "\n",
              "       ts_reply_at_first   ts_accepted_at_first       ts_booking_at  \\\n",
              "0  2016-04-21 03:15:00.0  2016-04-21 03:15:00.0 2016-04-21 03:15:00   \n",
              "1  2016-02-16 23:37:36.0                    NaN                 NaT   \n",
              "2  2016-01-28 02:12:47.0                    NaN                 NaT   \n",
              "3  2016-05-05 15:17:40.0  2016-05-05 15:17:40.0                 NaT   \n",
              "4  2016-06-23 03:09:26.0  2016-06-23 03:09:33.0 2016-06-23 03:09:33   \n",
              "\n",
              "  ds_checkin_first ds_checkout_first  m_guests  m_interactions  \\\n",
              "0       2016-08-02        2016-08-06       4.0              30   \n",
              "1       2016-08-11        2016-08-22       5.0               2   \n",
              "2       2016-03-14        2016-03-23       1.0               3   \n",
              "3       2016-05-27        2016-05-29       2.0               3   \n",
              "4       2016-08-19        2016-08-21       3.0              25   \n",
              "\n",
              "   m_first_message_length_in_characters contact_channel_first  \\\n",
              "0                                  31.0               book_it   \n",
              "1                                 312.0            contact_me   \n",
              "2                                 164.0            contact_me   \n",
              "3                                 203.0            contact_me   \n",
              "4                                   0.0          instant_book   \n",
              "\n",
              "  guest_user_stage_first            time  \n",
              "0            past_booker 0 days 00:19:07  \n",
              "1            past_booker             NaT  \n",
              "2                    new             NaT  \n",
              "3                    new             NaT  \n",
              "4            past_booker 0 days 00:00:08  "
            ],
            "text/html": [
              "\n",
              "  <div id=\"df-a1df75da-bb99-403f-9ac6-8932efbf7c8e\" class=\"colab-df-container\">\n",
              "    <div>\n",
              "<style scoped>\n",
              "    .dataframe tbody tr th:only-of-type {\n",
              "        vertical-align: middle;\n",
              "    }\n",
              "\n",
              "    .dataframe tbody tr th {\n",
              "        vertical-align: top;\n",
              "    }\n",
              "\n",
              "    .dataframe thead th {\n",
              "        text-align: right;\n",
              "    }\n",
              "</style>\n",
              "<table border=\"1\" class=\"dataframe\">\n",
              "  <thead>\n",
              "    <tr style=\"text-align: right;\">\n",
              "      <th></th>\n",
              "      <th>id_guest_anon</th>\n",
              "      <th>id_host_anon</th>\n",
              "      <th>id_listing_anon</th>\n",
              "      <th>ts_interaction_first</th>\n",
              "      <th>ts_reply_at_first</th>\n",
              "      <th>ts_accepted_at_first</th>\n",
              "      <th>ts_booking_at</th>\n",
              "      <th>ds_checkin_first</th>\n",
              "      <th>ds_checkout_first</th>\n",
              "      <th>m_guests</th>\n",
              "      <th>m_interactions</th>\n",
              "      <th>m_first_message_length_in_characters</th>\n",
              "      <th>contact_channel_first</th>\n",
              "      <th>guest_user_stage_first</th>\n",
              "      <th>time</th>\n",
              "    </tr>\n",
              "  </thead>\n",
              "  <tbody>\n",
              "    <tr>\n",
              "      <th>0</th>\n",
              "      <td>da8656a1-51af-4f38-b1c4-94be1f585157</td>\n",
              "      <td>5426897d-960d-4013-9e38-606ae746793c</td>\n",
              "      <td>a408a8b2-0d44-4513-a611-3736d0409bb2</td>\n",
              "      <td>2016-04-21 02:55:53</td>\n",
              "      <td>2016-04-21 03:15:00.0</td>\n",
              "      <td>2016-04-21 03:15:00.0</td>\n",
              "      <td>2016-04-21 03:15:00</td>\n",
              "      <td>2016-08-02</td>\n",
              "      <td>2016-08-06</td>\n",
              "      <td>4.0</td>\n",
              "      <td>30</td>\n",
              "      <td>31.0</td>\n",
              "      <td>book_it</td>\n",
              "      <td>past_booker</td>\n",
              "      <td>0 days 00:19:07</td>\n",
              "    </tr>\n",
              "    <tr>\n",
              "      <th>1</th>\n",
              "      <td>8590d6f1-8bc9-4e8b-bdfb-de78f69fcf37</td>\n",
              "      <td>f30417c5-6df4-45ac-bfc2-6ad1cce398ab</td>\n",
              "      <td>e387c705-0aeb-464c-9375-ece63be6f006</td>\n",
              "      <td>2016-02-16 22:14:01</td>\n",
              "      <td>2016-02-16 23:37:36.0</td>\n",
              "      <td>NaN</td>\n",
              "      <td>NaT</td>\n",
              "      <td>2016-08-11</td>\n",
              "      <td>2016-08-22</td>\n",
              "      <td>5.0</td>\n",
              "      <td>2</td>\n",
              "      <td>312.0</td>\n",
              "      <td>contact_me</td>\n",
              "      <td>past_booker</td>\n",
              "      <td>NaT</td>\n",
              "    </tr>\n",
              "    <tr>\n",
              "      <th>2</th>\n",
              "      <td>ebcd83ba-bda1-47eb-9680-2dd04ccf3988</td>\n",
              "      <td>13cbf50a-3272-45d4-9866-a06b6ea1b99a</td>\n",
              "      <td>d1eb1960-938f-4305-a353-51e224414dd4</td>\n",
              "      <td>2016-01-27 23:33:38</td>\n",
              "      <td>2016-01-28 02:12:47.0</td>\n",
              "      <td>NaN</td>\n",
              "      <td>NaT</td>\n",
              "      <td>2016-03-14</td>\n",
              "      <td>2016-03-23</td>\n",
              "      <td>1.0</td>\n",
              "      <td>3</td>\n",
              "      <td>164.0</td>\n",
              "      <td>contact_me</td>\n",
              "      <td>new</td>\n",
              "      <td>NaT</td>\n",
              "    </tr>\n",
              "    <tr>\n",
              "      <th>3</th>\n",
              "      <td>b0af8848-fe2a-4ef1-991e-26ab3066feb3</td>\n",
              "      <td>01614601-d5a4-4776-ab9b-c10d3b865bf0</td>\n",
              "      <td>855f6779-346c-45fc-a64b-ea133250ca7a</td>\n",
              "      <td>2016-05-05 14:42:52</td>\n",
              "      <td>2016-05-05 15:17:40.0</td>\n",
              "      <td>2016-05-05 15:17:40.0</td>\n",
              "      <td>NaT</td>\n",
              "      <td>2016-05-27</td>\n",
              "      <td>2016-05-29</td>\n",
              "      <td>2.0</td>\n",
              "      <td>3</td>\n",
              "      <td>203.0</td>\n",
              "      <td>contact_me</td>\n",
              "      <td>new</td>\n",
              "      <td>NaT</td>\n",
              "    </tr>\n",
              "    <tr>\n",
              "      <th>4</th>\n",
              "      <td>5ddbbcc3-ac1a-4d8a-b6f8-0f675b76d1b2</td>\n",
              "      <td>f2fed6f3-4c5c-453d-9e64-37c62b8bd06d</td>\n",
              "      <td>f2928a59-c5e7-42b2-9c37-240a40f38dc0</td>\n",
              "      <td>2016-06-23 03:09:25</td>\n",
              "      <td>2016-06-23 03:09:26.0</td>\n",
              "      <td>2016-06-23 03:09:33.0</td>\n",
              "      <td>2016-06-23 03:09:33</td>\n",
              "      <td>2016-08-19</td>\n",
              "      <td>2016-08-21</td>\n",
              "      <td>3.0</td>\n",
              "      <td>25</td>\n",
              "      <td>0.0</td>\n",
              "      <td>instant_book</td>\n",
              "      <td>past_booker</td>\n",
              "      <td>0 days 00:00:08</td>\n",
              "    </tr>\n",
              "  </tbody>\n",
              "</table>\n",
              "</div>\n",
              "    <div class=\"colab-df-buttons\">\n",
              "\n",
              "  <div class=\"colab-df-container\">\n",
              "    <button class=\"colab-df-convert\" onclick=\"convertToInteractive('df-a1df75da-bb99-403f-9ac6-8932efbf7c8e')\"\n",
              "            title=\"Convert this dataframe to an interactive table.\"\n",
              "            style=\"display:none;\">\n",
              "\n",
              "  <svg xmlns=\"http://www.w3.org/2000/svg\" height=\"24px\" viewBox=\"0 -960 960 960\">\n",
              "    <path d=\"M120-120v-720h720v720H120Zm60-500h600v-160H180v160Zm220 220h160v-160H400v160Zm0 220h160v-160H400v160ZM180-400h160v-160H180v160Zm440 0h160v-160H620v160ZM180-180h160v-160H180v160Zm440 0h160v-160H620v160Z\"/>\n",
              "  </svg>\n",
              "    </button>\n",
              "\n",
              "  <style>\n",
              "    .colab-df-container {\n",
              "      display:flex;\n",
              "      gap: 12px;\n",
              "    }\n",
              "\n",
              "    .colab-df-convert {\n",
              "      background-color: #E8F0FE;\n",
              "      border: none;\n",
              "      border-radius: 50%;\n",
              "      cursor: pointer;\n",
              "      display: none;\n",
              "      fill: #1967D2;\n",
              "      height: 32px;\n",
              "      padding: 0 0 0 0;\n",
              "      width: 32px;\n",
              "    }\n",
              "\n",
              "    .colab-df-convert:hover {\n",
              "      background-color: #E2EBFA;\n",
              "      box-shadow: 0px 1px 2px rgba(60, 64, 67, 0.3), 0px 1px 3px 1px rgba(60, 64, 67, 0.15);\n",
              "      fill: #174EA6;\n",
              "    }\n",
              "\n",
              "    .colab-df-buttons div {\n",
              "      margin-bottom: 4px;\n",
              "    }\n",
              "\n",
              "    [theme=dark] .colab-df-convert {\n",
              "      background-color: #3B4455;\n",
              "      fill: #D2E3FC;\n",
              "    }\n",
              "\n",
              "    [theme=dark] .colab-df-convert:hover {\n",
              "      background-color: #434B5C;\n",
              "      box-shadow: 0px 1px 3px 1px rgba(0, 0, 0, 0.15);\n",
              "      filter: drop-shadow(0px 1px 2px rgba(0, 0, 0, 0.3));\n",
              "      fill: #FFFFFF;\n",
              "    }\n",
              "  </style>\n",
              "\n",
              "    <script>\n",
              "      const buttonEl =\n",
              "        document.querySelector('#df-a1df75da-bb99-403f-9ac6-8932efbf7c8e button.colab-df-convert');\n",
              "      buttonEl.style.display =\n",
              "        google.colab.kernel.accessAllowed ? 'block' : 'none';\n",
              "\n",
              "      async function convertToInteractive(key) {\n",
              "        const element = document.querySelector('#df-a1df75da-bb99-403f-9ac6-8932efbf7c8e');\n",
              "        const dataTable =\n",
              "          await google.colab.kernel.invokeFunction('convertToInteractive',\n",
              "                                                    [key], {});\n",
              "        if (!dataTable) return;\n",
              "\n",
              "        const docLinkHtml = 'Like what you see? Visit the ' +\n",
              "          '<a target=\"_blank\" href=https://colab.research.google.com/notebooks/data_table.ipynb>data table notebook</a>'\n",
              "          + ' to learn more about interactive tables.';\n",
              "        element.innerHTML = '';\n",
              "        dataTable['output_type'] = 'display_data';\n",
              "        await google.colab.output.renderOutput(dataTable, element);\n",
              "        const docLink = document.createElement('div');\n",
              "        docLink.innerHTML = docLinkHtml;\n",
              "        element.appendChild(docLink);\n",
              "      }\n",
              "    </script>\n",
              "  </div>\n",
              "\n",
              "\n",
              "<div id=\"df-b2906cc5-d032-4ff5-bf18-6c5d5135ea09\">\n",
              "  <button class=\"colab-df-quickchart\" onclick=\"quickchart('df-b2906cc5-d032-4ff5-bf18-6c5d5135ea09')\"\n",
              "            title=\"Suggest charts.\"\n",
              "            style=\"display:none;\">\n",
              "\n",
              "<svg xmlns=\"http://www.w3.org/2000/svg\" height=\"24px\"viewBox=\"0 0 24 24\"\n",
              "     width=\"24px\">\n",
              "    <g>\n",
              "        <path d=\"M19 3H5c-1.1 0-2 .9-2 2v14c0 1.1.9 2 2 2h14c1.1 0 2-.9 2-2V5c0-1.1-.9-2-2-2zM9 17H7v-7h2v7zm4 0h-2V7h2v10zm4 0h-2v-4h2v4z\"/>\n",
              "    </g>\n",
              "</svg>\n",
              "  </button>\n",
              "\n",
              "<style>\n",
              "  .colab-df-quickchart {\n",
              "      --bg-color: #E8F0FE;\n",
              "      --fill-color: #1967D2;\n",
              "      --hover-bg-color: #E2EBFA;\n",
              "      --hover-fill-color: #174EA6;\n",
              "      --disabled-fill-color: #AAA;\n",
              "      --disabled-bg-color: #DDD;\n",
              "  }\n",
              "\n",
              "  [theme=dark] .colab-df-quickchart {\n",
              "      --bg-color: #3B4455;\n",
              "      --fill-color: #D2E3FC;\n",
              "      --hover-bg-color: #434B5C;\n",
              "      --hover-fill-color: #FFFFFF;\n",
              "      --disabled-bg-color: #3B4455;\n",
              "      --disabled-fill-color: #666;\n",
              "  }\n",
              "\n",
              "  .colab-df-quickchart {\n",
              "    background-color: var(--bg-color);\n",
              "    border: none;\n",
              "    border-radius: 50%;\n",
              "    cursor: pointer;\n",
              "    display: none;\n",
              "    fill: var(--fill-color);\n",
              "    height: 32px;\n",
              "    padding: 0;\n",
              "    width: 32px;\n",
              "  }\n",
              "\n",
              "  .colab-df-quickchart:hover {\n",
              "    background-color: var(--hover-bg-color);\n",
              "    box-shadow: 0 1px 2px rgba(60, 64, 67, 0.3), 0 1px 3px 1px rgba(60, 64, 67, 0.15);\n",
              "    fill: var(--button-hover-fill-color);\n",
              "  }\n",
              "\n",
              "  .colab-df-quickchart-complete:disabled,\n",
              "  .colab-df-quickchart-complete:disabled:hover {\n",
              "    background-color: var(--disabled-bg-color);\n",
              "    fill: var(--disabled-fill-color);\n",
              "    box-shadow: none;\n",
              "  }\n",
              "\n",
              "  .colab-df-spinner {\n",
              "    border: 2px solid var(--fill-color);\n",
              "    border-color: transparent;\n",
              "    border-bottom-color: var(--fill-color);\n",
              "    animation:\n",
              "      spin 1s steps(1) infinite;\n",
              "  }\n",
              "\n",
              "  @keyframes spin {\n",
              "    0% {\n",
              "      border-color: transparent;\n",
              "      border-bottom-color: var(--fill-color);\n",
              "      border-left-color: var(--fill-color);\n",
              "    }\n",
              "    20% {\n",
              "      border-color: transparent;\n",
              "      border-left-color: var(--fill-color);\n",
              "      border-top-color: var(--fill-color);\n",
              "    }\n",
              "    30% {\n",
              "      border-color: transparent;\n",
              "      border-left-color: var(--fill-color);\n",
              "      border-top-color: var(--fill-color);\n",
              "      border-right-color: var(--fill-color);\n",
              "    }\n",
              "    40% {\n",
              "      border-color: transparent;\n",
              "      border-right-color: var(--fill-color);\n",
              "      border-top-color: var(--fill-color);\n",
              "    }\n",
              "    60% {\n",
              "      border-color: transparent;\n",
              "      border-right-color: var(--fill-color);\n",
              "    }\n",
              "    80% {\n",
              "      border-color: transparent;\n",
              "      border-right-color: var(--fill-color);\n",
              "      border-bottom-color: var(--fill-color);\n",
              "    }\n",
              "    90% {\n",
              "      border-color: transparent;\n",
              "      border-bottom-color: var(--fill-color);\n",
              "    }\n",
              "  }\n",
              "</style>\n",
              "\n",
              "  <script>\n",
              "    async function quickchart(key) {\n",
              "      const quickchartButtonEl =\n",
              "        document.querySelector('#' + key + ' button');\n",
              "      quickchartButtonEl.disabled = true;  // To prevent multiple clicks.\n",
              "      quickchartButtonEl.classList.add('colab-df-spinner');\n",
              "      try {\n",
              "        const charts = await google.colab.kernel.invokeFunction(\n",
              "            'suggestCharts', [key], {});\n",
              "      } catch (error) {\n",
              "        console.error('Error during call to suggestCharts:', error);\n",
              "      }\n",
              "      quickchartButtonEl.classList.remove('colab-df-spinner');\n",
              "      quickchartButtonEl.classList.add('colab-df-quickchart-complete');\n",
              "    }\n",
              "    (() => {\n",
              "      let quickchartButtonEl =\n",
              "        document.querySelector('#df-b2906cc5-d032-4ff5-bf18-6c5d5135ea09 button');\n",
              "      quickchartButtonEl.style.display =\n",
              "        google.colab.kernel.accessAllowed ? 'block' : 'none';\n",
              "    })();\n",
              "  </script>\n",
              "</div>\n",
              "    </div>\n",
              "  </div>\n"
            ]
          },
          "metadata": {},
          "execution_count": 76
        }
      ]
    },
    {
      "cell_type": "code",
      "source": [],
      "metadata": {
        "id": "MK5qNKG41_zm"
      },
      "id": "MK5qNKG41_zm",
      "execution_count": 76,
      "outputs": []
    },
    {
      "cell_type": "code",
      "source": [
        "#interaction times and their accept rate"
      ],
      "metadata": {
        "id": "NxzE9vHB2AFb"
      },
      "id": "NxzE9vHB2AFb",
      "execution_count": 78,
      "outputs": []
    },
    {
      "cell_type": "code",
      "source": [],
      "metadata": {
        "id": "ABrmxt9d2InR"
      },
      "id": "ABrmxt9d2InR",
      "execution_count": null,
      "outputs": []
    },
    {
      "cell_type": "code",
      "source": [
        "xxx = df[df['ts_accepted_at_first'].notnull()][\"time\"]\n"
      ],
      "metadata": {
        "id": "L7qu8BDcPFzy"
      },
      "id": "L7qu8BDcPFzy",
      "execution_count": 54,
      "outputs": []
    },
    {
      "cell_type": "code",
      "source": [
        "df[(df[\"m_interactions\"]>=7 ) & (df[\"contact_channel_first\"]== \"contact_me\")][[\"ts_accepted_at_first\"]].count()"
      ],
      "metadata": {
        "colab": {
          "base_uri": "https://localhost:8080/"
        },
        "id": "cUlekCKXOudY",
        "outputId": "b91d7b54-fbfe-41c7-a7f4-1db7607c7cdb"
      },
      "id": "cUlekCKXOudY",
      "execution_count": 47,
      "outputs": [
        {
          "output_type": "execute_result",
          "data": {
            "text/plain": [
              "ts_accepted_at_first    2231\n",
              "dtype: int64"
            ]
          },
          "metadata": {},
          "execution_count": 47
        }
      ]
    },
    {
      "cell_type": "code",
      "source": [
        "df[(df[\"m_interactions\"]>=7 ) & (df[\"contact_channel_first\"]== \"contact_me\")].shape"
      ],
      "metadata": {
        "colab": {
          "base_uri": "https://localhost:8080/"
        },
        "id": "FlgfF_uSR9M-",
        "outputId": "130e21f5-4e30-4748-b538-e6fcd1e42660"
      },
      "id": "FlgfF_uSR9M-",
      "execution_count": 48,
      "outputs": [
        {
          "output_type": "execute_result",
          "data": {
            "text/plain": [
              "(3078, 15)"
            ]
          },
          "metadata": {},
          "execution_count": 48
        }
      ]
    },
    {
      "cell_type": "code",
      "source": [
        "df[(df[\"m_interactions\"]<6 ) & (df[\"contact_channel_first\"]== \"contact_me\")][[\"ts_accepted_at_first\"]].count()"
      ],
      "metadata": {
        "colab": {
          "base_uri": "https://localhost:8080/"
        },
        "id": "vmn8WxhkPh0b",
        "outputId": "4290c920-3e9d-40b2-8b63-1d1dadd60c4a"
      },
      "id": "vmn8WxhkPh0b",
      "execution_count": 49,
      "outputs": [
        {
          "output_type": "execute_result",
          "data": {
            "text/plain": [
              "ts_accepted_at_first    2834\n",
              "dtype: int64"
            ]
          },
          "metadata": {},
          "execution_count": 49
        }
      ]
    },
    {
      "cell_type": "code",
      "source": [
        "df[(df[\"m_interactions\"]<6 ) & (df[\"contact_channel_first\"]== \"contact_me\")].shape"
      ],
      "metadata": {
        "colab": {
          "base_uri": "https://localhost:8080/"
        },
        "id": "vY-8UD5KPsKi",
        "outputId": "9c4c4e2c-9df8-4651-db0d-138d5415371a"
      },
      "id": "vY-8UD5KPsKi",
      "execution_count": 50,
      "outputs": [
        {
          "output_type": "execute_result",
          "data": {
            "text/plain": [
              "(9010, 15)"
            ]
          },
          "metadata": {},
          "execution_count": 50
        }
      ]
    },
    {
      "cell_type": "code",
      "source": [
        "\n",
        "data = {'accept_rate': [2231/3078, 2834/9010]}\n",
        "df = pd.DataFrame(data)\n",
        "df.plot(kind='bar', figsize=(8, 6))\n"
      ],
      "metadata": {
        "colab": {
          "base_uri": "https://localhost:8080/",
          "height": 534
        },
        "id": "vQDdQEY70PxD",
        "outputId": "da22e39f-a1f9-411d-98db-43a971d675d1"
      },
      "id": "vQDdQEY70PxD",
      "execution_count": 65,
      "outputs": [
        {
          "output_type": "execute_result",
          "data": {
            "text/plain": [
              "<Axes: >"
            ]
          },
          "metadata": {},
          "execution_count": 65
        },
        {
          "output_type": "display_data",
          "data": {
            "text/plain": [
              "<Figure size 800x600 with 1 Axes>"
            ],
            "image/png": "[encoded data removed]"
          },
          "metadata": {}
        }
      ]
    },
    {
      "cell_type": "code",
      "source": [],
      "metadata": {
        "id": "3-ceVmnPPsSD"
      },
      "id": "3-ceVmnPPsSD",
      "execution_count": null,
      "outputs": []
    },
    {
      "cell_type": "code",
      "source": [],
      "metadata": {
        "id": "LlyrHiguC7OZ"
      },
      "id": "LlyrHiguC7OZ",
      "execution_count": null,
      "outputs": []
    },
    {
      "cell_type": "code",
      "source": [
        "df1 = pd.read_csv(\"listings.csv\")\n",
        "df1.head()"
      ],
      "metadata": {
        "colab": {
          "base_uri": "https://localhost:8080/",
          "height": 206
        },
        "id": "_l22FZ2d0Vot",
        "outputId": "d3656a38-6f9b-4109-ff98-78113d4f2eec"
      },
      "id": "_l22FZ2d0Vot",
      "execution_count": 67,
      "outputs": [
        {
          "output_type": "execute_result",
          "data": {
            "text/plain": [
              "                        id_listing_anon        room_type listing_neighborhood  \\\n",
              "0  71582793-e5f8-46d7-afdf-7a31d2341c79     Private room            -unknown-   \n",
              "1  a1a3f728-e21f-4432-96aa-361d28e2b319  Entire home/apt           Copacabana   \n",
              "2  353a68be-ecf9-4b7b-9533-c882dc2f0760  Entire home/apt      Barra da Tijuca   \n",
              "3  b9ae1908-0486-40ac-bbcf-bd63ffebfe63  Entire home/apt                 Lapa   \n",
              "4  fa0290ef-7881-4482-8981-8ebb1ce5dbfd  Entire home/apt            -unknown-   \n",
              "\n",
              "   total_reviews  \n",
              "0            0.0  \n",
              "1            0.0  \n",
              "2            3.0  \n",
              "3            4.0  \n",
              "4            0.0  "
            ],
            "text/html": [
              "\n",
              "  <div id=\"df-9dd08610-a3a4-4f00-a33a-c9e99a964677\" class=\"colab-df-container\">\n",
              "    <div>\n",
              "<style scoped>\n",
              "    .dataframe tbody tr th:only-of-type {\n",
              "        vertical-align: middle;\n",
              "    }\n",
              "\n",
              "    .dataframe tbody tr th {\n",
              "        vertical-align: top;\n",
              "    }\n",
              "\n",
              "    .dataframe thead th {\n",
              "        text-align: right;\n",
              "    }\n",
              "</style>\n",
              "<table border=\"1\" class=\"dataframe\">\n",
              "  <thead>\n",
              "    <tr style=\"text-align: right;\">\n",
              "      <th></th>\n",
              "      <th>id_listing_anon</th>\n",
              "      <th>room_type</th>\n",
              "      <th>listing_neighborhood</th>\n",
              "      <th>total_reviews</th>\n",
              "    </tr>\n",
              "  </thead>\n",
              "  <tbody>\n",
              "    <tr>\n",
              "      <th>0</th>\n",
              "      <td>71582793-e5f8-46d7-afdf-7a31d2341c79</td>\n",
              "      <td>Private room</td>\n",
              "      <td>-unknown-</td>\n",
              "      <td>0.0</td>\n",
              "    </tr>\n",
              "    <tr>\n",
              "      <th>1</th>\n",
              "      <td>a1a3f728-e21f-4432-96aa-361d28e2b319</td>\n",
              "      <td>Entire home/apt</td>\n",
              "      <td>Copacabana</td>\n",
              "      <td>0.0</td>\n",
              "    </tr>\n",
              "    <tr>\n",
              "      <th>2</th>\n",
              "      <td>353a68be-ecf9-4b7b-9533-c882dc2f0760</td>\n",
              "      <td>Entire home/apt</td>\n",
              "      <td>Barra da Tijuca</td>\n",
              "      <td>3.0</td>\n",
              "    </tr>\n",
              "    <tr>\n",
              "      <th>3</th>\n",
              "      <td>b9ae1908-0486-40ac-bbcf-bd63ffebfe63</td>\n",
              "      <td>Entire home/apt</td>\n",
              "      <td>Lapa</td>\n",
              "      <td>4.0</td>\n",
              "    </tr>\n",
              "    <tr>\n",
              "      <th>4</th>\n",
              "      <td>fa0290ef-7881-4482-8981-8ebb1ce5dbfd</td>\n",
              "      <td>Entire home/apt</td>\n",
              "      <td>-unknown-</td>\n",
              "      <td>0.0</td>\n",
              "    </tr>\n",
              "  </tbody>\n",
              "</table>\n",
              "</div>\n",
              "    <div class=\"colab-df-buttons\">\n",
              "\n",
              "  <div class=\"colab-df-container\">\n",
              "    <button class=\"colab-df-convert\" onclick=\"convertToInteractive('df-9dd08610-a3a4-4f00-a33a-c9e99a964677')\"\n",
              "            title=\"Convert this dataframe to an interactive table.\"\n",
              "            style=\"display:none;\">\n",
              "\n",
              "  <svg xmlns=\"http://www.w3.org/2000/svg\" height=\"24px\" viewBox=\"0 -960 960 960\">\n",
              "    <path d=\"M120-120v-720h720v720H120Zm60-500h600v-160H180v160Zm220 220h160v-160H400v160Zm0 220h160v-160H400v160ZM180-400h160v-160H180v160Zm440 0h160v-160H620v160ZM180-180h160v-160H180v160Zm440 0h160v-160H620v160Z\"/>\n",
              "  </svg>\n",
              "    </button>\n",
              "\n",
              "  <style>\n",
              "    .colab-df-container {\n",
              "      display:flex;\n",
              "      gap: 12px;\n",
              "    }\n",
              "\n",
              "    .colab-df-convert {\n",
              "      background-color: #E8F0FE;\n",
              "      border: none;\n",
              "      border-radius: 50%;\n",
              "      cursor: pointer;\n",
              "      display: none;\n",
              "      fill: #1967D2;\n",
              "      height: 32px;\n",
              "      padding: 0 0 0 0;\n",
              "      width: 32px;\n",
              "    }\n",
              "\n",
              "    .colab-df-convert:hover {\n",
              "      background-color: #E2EBFA;\n",
              "      box-shadow: 0px 1px 2px rgba(60, 64, 67, 0.3), 0px 1px 3px 1px rgba(60, 64, 67, 0.15);\n",
              "      fill: #174EA6;\n",
              "    }\n",
              "\n",
              "    .colab-df-buttons div {\n",
              "      margin-bottom: 4px;\n",
              "    }\n",
              "\n",
              "    [theme=dark] .colab-df-convert {\n",
              "      background-color: #3B4455;\n",
              "      fill: #D2E3FC;\n",
              "    }\n",
              "\n",
              "    [theme=dark] .colab-df-convert:hover {\n",
              "      background-color: #434B5C;\n",
              "      box-shadow: 0px 1px 3px 1px rgba(0, 0, 0, 0.15);\n",
              "      filter: drop-shadow(0px 1px 2px rgba(0, 0, 0, 0.3));\n",
              "      fill: #FFFFFF;\n",
              "    }\n",
              "  </style>\n",
              "\n",
              "    <script>\n",
              "      const buttonEl =\n",
              "        document.querySelector('#df-9dd08610-a3a4-4f00-a33a-c9e99a964677 button.colab-df-convert');\n",
              "      buttonEl.style.display =\n",
              "        google.colab.kernel.accessAllowed ? 'block' : 'none';\n",
              "\n",
              "      async function convertToInteractive(key) {\n",
              "        const element = document.querySelector('#df-9dd08610-a3a4-4f00-a33a-c9e99a964677');\n",
              "        const dataTable =\n",
              "          await google.colab.kernel.invokeFunction('convertToInteractive',\n",
              "                                                    [key], {});\n",
              "        if (!dataTable) return;\n",
              "\n",
              "        const docLinkHtml = 'Like what you see? Visit the ' +\n",
              "          '<a target=\"_blank\" href=https://colab.research.google.com/notebooks/data_table.ipynb>data table notebook</a>'\n",
              "          + ' to learn more about interactive tables.';\n",
              "        element.innerHTML = '';\n",
              "        dataTable['output_type'] = 'display_data';\n",
              "        await google.colab.output.renderOutput(dataTable, element);\n",
              "        const docLink = document.createElement('div');\n",
              "        docLink.innerHTML = docLinkHtml;\n",
              "        element.appendChild(docLink);\n",
              "      }\n",
              "    </script>\n",
              "  </div>\n",
              "\n",
              "\n",
              "<div id=\"df-ff7206dc-0c43-4b41-90f4-4ece70329a14\">\n",
              "  <button class=\"colab-df-quickchart\" onclick=\"quickchart('df-ff7206dc-0c43-4b41-90f4-4ece70329a14')\"\n",
              "            title=\"Suggest charts.\"\n",
              "            style=\"display:none;\">\n",
              "\n",
              "<svg xmlns=\"http://www.w3.org/2000/svg\" height=\"24px\"viewBox=\"0 0 24 24\"\n",
              "     width=\"24px\">\n",
              "    <g>\n",
              "        <path d=\"M19 3H5c-1.1 0-2 .9-2 2v14c0 1.1.9 2 2 2h14c1.1 0 2-.9 2-2V5c0-1.1-.9-2-2-2zM9 17H7v-7h2v7zm4 0h-2V7h2v10zm4 0h-2v-4h2v4z\"/>\n",
              "    </g>\n",
              "</svg>\n",
              "  </button>\n",
              "\n",
              "<style>\n",
              "  .colab-df-quickchart {\n",
              "      --bg-color: #E8F0FE;\n",
              "      --fill-color: #1967D2;\n",
              "      --hover-bg-color: #E2EBFA;\n",
              "      --hover-fill-color: #174EA6;\n",
              "      --disabled-fill-color: #AAA;\n",
              "      --disabled-bg-color: #DDD;\n",
              "  }\n",
              "\n",
              "  [theme=dark] .colab-df-quickchart {\n",
              "      --bg-color: #3B4455;\n",
              "      --fill-color: #D2E3FC;\n",
              "      --hover-bg-color: #434B5C;\n",
              "      --hover-fill-color: #FFFFFF;\n",
              "      --disabled-bg-color: #3B4455;\n",
              "      --disabled-fill-color: #666;\n",
              "  }\n",
              "\n",
              "  .colab-df-quickchart {\n",
              "    background-color: var(--bg-color);\n",
              "    border: none;\n",
              "    border-radius: 50%;\n",
              "    cursor: pointer;\n",
              "    display: none;\n",
              "    fill: var(--fill-color);\n",
              "    height: 32px;\n",
              "    padding: 0;\n",
              "    width: 32px;\n",
              "  }\n",
              "\n",
              "  .colab-df-quickchart:hover {\n",
              "    background-color: var(--hover-bg-color);\n",
              "    box-shadow: 0 1px 2px rgba(60, 64, 67, 0.3), 0 1px 3px 1px rgba(60, 64, 67, 0.15);\n",
              "    fill: var(--button-hover-fill-color);\n",
              "  }\n",
              "\n",
              "  .colab-df-quickchart-complete:disabled,\n",
              "  .colab-df-quickchart-complete:disabled:hover {\n",
              "    background-color: var(--disabled-bg-color);\n",
              "    fill: var(--disabled-fill-color);\n",
              "    box-shadow: none;\n",
              "  }\n",
              "\n",
              "  .colab-df-spinner {\n",
              "    border: 2px solid var(--fill-color);\n",
              "    border-color: transparent;\n",
              "    border-bottom-color: var(--fill-color);\n",
              "    animation:\n",
              "      spin 1s steps(1) infinite;\n",
              "  }\n",
              "\n",
              "  @keyframes spin {\n",
              "    0% {\n",
              "      border-color: transparent;\n",
              "      border-bottom-color: var(--fill-color);\n",
              "      border-left-color: var(--fill-color);\n",
              "    }\n",
              "    20% {\n",
              "      border-color: transparent;\n",
              "      border-left-color: var(--fill-color);\n",
              "      border-top-color: var(--fill-color);\n",
              "    }\n",
              "    30% {\n",
              "      border-color: transparent;\n",
              "      border-left-color: var(--fill-color);\n",
              "      border-top-color: var(--fill-color);\n",
              "      border-right-color: var(--fill-color);\n",
              "    }\n",
              "    40% {\n",
              "      border-color: transparent;\n",
              "      border-right-color: var(--fill-color);\n",
              "      border-top-color: var(--fill-color);\n",
              "    }\n",
              "    60% {\n",
              "      border-color: transparent;\n",
              "      border-right-color: var(--fill-color);\n",
              "    }\n",
              "    80% {\n",
              "      border-color: transparent;\n",
              "      border-right-color: var(--fill-color);\n",
              "      border-bottom-color: var(--fill-color);\n",
              "    }\n",
              "    90% {\n",
              "      border-color: transparent;\n",
              "      border-bottom-color: var(--fill-color);\n",
              "    }\n",
              "  }\n",
              "</style>\n",
              "\n",
              "  <script>\n",
              "    async function quickchart(key) {\n",
              "      const quickchartButtonEl =\n",
              "        document.querySelector('#' + key + ' button');\n",
              "      quickchartButtonEl.disabled = true;  // To prevent multiple clicks.\n",
              "      quickchartButtonEl.classList.add('colab-df-spinner');\n",
              "      try {\n",
              "        const charts = await google.colab.kernel.invokeFunction(\n",
              "            'suggestCharts', [key], {});\n",
              "      } catch (error) {\n",
              "        console.error('Error during call to suggestCharts:', error);\n",
              "      }\n",
              "      quickchartButtonEl.classList.remove('colab-df-spinner');\n",
              "      quickchartButtonEl.classList.add('colab-df-quickchart-complete');\n",
              "    }\n",
              "    (() => {\n",
              "      let quickchartButtonEl =\n",
              "        document.querySelector('#df-ff7206dc-0c43-4b41-90f4-4ece70329a14 button');\n",
              "      quickchartButtonEl.style.display =\n",
              "        google.colab.kernel.accessAllowed ? 'block' : 'none';\n",
              "    })();\n",
              "  </script>\n",
              "</div>\n",
              "    </div>\n",
              "  </div>\n"
            ]
          },
          "metadata": {},
          "execution_count": 67
        }
      ]
    },
    {
      "cell_type": "code",
      "source": [],
      "metadata": {
        "id": "snuGfZH4Mjln"
      },
      "id": "snuGfZH4Mjln",
      "execution_count": 75,
      "outputs": []
    },
    {
      "cell_type": "code",
      "source": [],
      "metadata": {
        "id": "_68eeYt4OUmL"
      },
      "id": "_68eeYt4OUmL",
      "execution_count": null,
      "outputs": []
    },
    {
      "cell_type": "code",
      "source": [
        "#acceptrate with their chanel"
      ],
      "metadata": {
        "id": "CZfXzuJKOVPW"
      },
      "id": "CZfXzuJKOVPW",
      "execution_count": 82,
      "outputs": []
    },
    {
      "cell_type": "code",
      "source": [
        "leo = df[(df['ts_accepted_at_first'].notnull()) & (df['ts_booking_at'].isnull())]\n"
      ],
      "metadata": {
        "id": "9O3o5hHV83BN"
      },
      "id": "9O3o5hHV83BN",
      "execution_count": 79,
      "outputs": []
    },
    {
      "cell_type": "code",
      "source": [
        "leo[\"contact_channel_first\"].value_counts().plot(kind=\"bar\")"
      ],
      "metadata": {
        "colab": {
          "base_uri": "https://localhost:8080/",
          "height": 514
        },
        "id": "DQq6Rr6F82es",
        "outputId": "8dcf389f-e9f4-4dc4-bb27-fef92b57dff7"
      },
      "id": "DQq6Rr6F82es",
      "execution_count": 83,
      "outputs": [
        {
          "output_type": "execute_result",
          "data": {
            "text/plain": [
              "<Axes: >"
            ]
          },
          "metadata": {},
          "execution_count": 83
        },
        {
          "output_type": "display_data",
          "data": {
            "text/plain": [
              "<Figure size 640x480 with 1 Axes>"
            ],
            "image/png": "[encoded data removed]"
          },
          "metadata": {}
        }
      ]
    },
    {
      "cell_type": "code",
      "source": [],
      "metadata": {
        "id": "LOaMrRU-2Z2t"
      },
      "id": "LOaMrRU-2Z2t",
      "execution_count": null,
      "outputs": []
    },
    {
      "cell_type": "code",
      "source": [
        "df.groupby(\"m_guests\")[\"ts_accepted_at_first\"].count()"
      ],
      "metadata": {
        "colab": {
          "base_uri": "https://localhost:8080/"
        },
        "id": "uYP_tJamMj0I",
        "outputId": "cf648db7-7ac4-4e23-b627-b7250aeae50c"
      },
      "id": "uYP_tJamMj0I",
      "execution_count": 81,
      "outputs": [
        {
          "output_type": "execute_result",
          "data": {
            "text/plain": [
              "m_guests\n",
              "0.0        2\n",
              "1.0     3897\n",
              "2.0     6602\n",
              "3.0     1769\n",
              "4.0     2264\n",
              "5.0      755\n",
              "6.0      580\n",
              "7.0      182\n",
              "8.0      193\n",
              "9.0       38\n",
              "10.0      84\n",
              "11.0      10\n",
              "12.0      17\n",
              "13.0       3\n",
              "14.0       4\n",
              "15.0       6\n",
              "16.0       9\n",
              "Name: ts_accepted_at_first, dtype: int64"
            ]
          },
          "metadata": {},
          "execution_count": 81
        }
      ]
    },
    {
      "cell_type": "code",
      "source": [
        "df[\"m_guests\"].value_counts()"
      ],
      "metadata": {
        "colab": {
          "base_uri": "https://localhost:8080/"
        },
        "id": "wn2rrxiVMj6S",
        "outputId": "10bdb873-a52f-4ab7-aa1d-59db379de36b"
      },
      "id": "wn2rrxiVMj6S",
      "execution_count": 85,
      "outputs": [
        {
          "output_type": "execute_result",
          "data": {
            "text/plain": [
              "2.0     10569\n",
              "1.0      6388\n",
              "4.0      4135\n",
              "3.0      2966\n",
              "5.0      1413\n",
              "6.0      1222\n",
              "8.0       454\n",
              "7.0       342\n",
              "10.0      198\n",
              "9.0        80\n",
              "12.0       42\n",
              "11.0       27\n",
              "16.0       18\n",
              "15.0       16\n",
              "14.0        8\n",
              "0.0         4\n",
              "13.0        4\n",
              "Name: m_guests, dtype: int64"
            ]
          },
          "metadata": {},
          "execution_count": 85
        }
      ]
    },
    {
      "cell_type": "code",
      "source": [],
      "metadata": {
        "id": "0Iq-2u1J2gnH"
      },
      "id": "0Iq-2u1J2gnH",
      "execution_count": 85,
      "outputs": []
    },
    {
      "cell_type": "code",
      "source": [],
      "metadata": {
        "id": "4dRguW-x2g0c"
      },
      "id": "4dRguW-x2g0c",
      "execution_count": 85,
      "outputs": []
    },
    {
      "cell_type": "code",
      "source": [],
      "metadata": {
        "id": "Kd5vnflN2hFF"
      },
      "id": "Kd5vnflN2hFF",
      "execution_count": 85,
      "outputs": []
    },
    {
      "cell_type": "code",
      "source": [],
      "metadata": {
        "id": "BnJF9AiV2hHz"
      },
      "id": "BnJF9AiV2hHz",
      "execution_count": null,
      "outputs": []
    },
    {
      "cell_type": "code",
      "source": [
        "interaction_mean = df[df['ts_accepted_at_first'].notnull()][\"m_interactions\"].mean()\n",
        "interaction_mean"
      ],
      "metadata": {
        "colab": {
          "base_uri": "https://localhost:8080/"
        },
        "id": "30-jpBaBQmuB",
        "outputId": "06e1e978-1406-48cf-feba-6d1df41174a3"
      },
      "id": "30-jpBaBQmuB",
      "execution_count": 87,
      "outputs": [
        {
          "output_type": "execute_result",
          "data": {
            "text/plain": [
              "11.260919890344198"
            ]
          },
          "metadata": {},
          "execution_count": 87
        }
      ]
    },
    {
      "cell_type": "code",
      "source": [
        "\n",
        "interaction_mean_2 = df[df['ts_accepted_at_first'].isnull()][\"m_interactions\"].mean()\n",
        "interaction_mean_2"
      ],
      "metadata": {
        "colab": {
          "base_uri": "https://localhost:8080/"
        },
        "id": "PxWhfLqBRyIB",
        "outputId": "2673827a-de66-47a5-9487-7ffba474263c"
      },
      "id": "PxWhfLqBRyIB",
      "execution_count": 88,
      "outputs": [
        {
          "output_type": "execute_result",
          "data": {
            "text/plain": [
              "3.9558926080892607"
            ]
          },
          "metadata": {},
          "execution_count": 88
        }
      ]
    },
    {
      "cell_type": "code",
      "source": [
        "plt.bar([1,2], [interaction_mean,interaction_mean_2], width=0.4, tick_label = [\"accepted\", \"not acceppted\"])\n",
        "\n",
        "plt.ylabel(\"average intercation times\")\n"
      ],
      "metadata": {
        "colab": {
          "base_uri": "https://localhost:8080/",
          "height": 447
        },
        "id": "s755MWRaSD_P",
        "outputId": "889e8cef-2b8e-47e5-8397-61064a603bcc"
      },
      "id": "s755MWRaSD_P",
      "execution_count": 89,
      "outputs": [
        {
          "output_type": "execute_result",
          "data": {
            "text/plain": [
              "Text(0, 0.5, 'average intercation times')"
            ]
          },
          "metadata": {},
          "execution_count": 89
        },
        {
          "output_type": "display_data",
          "data": {
            "text/plain": [
              "<Figure size 640x480 with 1 Axes>"
            ],
            "image/png": "[encoded data removed]"
          },
          "metadata": {}
        }
      ]
    },
    {
      "cell_type": "code",
      "source": [],
      "metadata": {
        "id": "Rwubr22v2jKx"
      },
      "id": "Rwubr22v2jKx",
      "execution_count": 89,
      "outputs": []
    },
    {
      "cell_type": "code",
      "source": [],
      "metadata": {
        "id": "cMlf3ORt2lZK"
      },
      "id": "cMlf3ORt2lZK",
      "execution_count": 89,
      "outputs": []
    },
    {
      "cell_type": "code",
      "source": [],
      "metadata": {
        "id": "BtlYF1aa2liN"
      },
      "id": "BtlYF1aa2liN",
      "execution_count": null,
      "outputs": []
    },
    {
      "cell_type": "code",
      "source": [
        "length = df[df['ts_accepted_at_first'].notnull()][\"m_first_message_length_in_characters\"].mean()\n",
        "length"
      ],
      "metadata": {
        "colab": {
          "base_uri": "https://localhost:8080/"
        },
        "id": "xcFvzgpXSEB8",
        "outputId": "76f73281-4f22-4c67-fcae-52932e48f652"
      },
      "id": "xcFvzgpXSEB8",
      "execution_count": 89,
      "outputs": [
        {
          "output_type": "execute_result",
          "data": {
            "text/plain": [
              "185.83758757234236"
            ]
          },
          "metadata": {},
          "execution_count": 89
        }
      ]
    },
    {
      "cell_type": "code",
      "source": [
        "length_1 = df[df['ts_accepted_at_first'].isnull()][\"m_first_message_length_in_characters\"].mean()\n",
        "length_1"
      ],
      "metadata": {
        "colab": {
          "base_uri": "https://localhost:8080/"
        },
        "id": "3nJIr9uqSLCg",
        "outputId": "b03be6ce-c0d9-4422-afca-0672107c3b4c"
      },
      "id": "3nJIr9uqSLCg",
      "execution_count": 107,
      "outputs": [
        {
          "output_type": "execute_result",
          "data": {
            "text/plain": [
              "204.98082287308227"
            ]
          },
          "metadata": {},
          "execution_count": 107
        }
      ]
    },
    {
      "cell_type": "code",
      "source": [],
      "metadata": {
        "id": "T125pFJoVelu"
      },
      "id": "T125pFJoVelu",
      "execution_count": 89,
      "outputs": []
    },
    {
      "cell_type": "code",
      "source": [],
      "metadata": {
        "id": "aoGpmUA22nPs"
      },
      "id": "aoGpmUA22nPs",
      "execution_count": 89,
      "outputs": []
    },
    {
      "cell_type": "code",
      "source": [],
      "metadata": {
        "id": "QQV3nmh42nZD"
      },
      "id": "QQV3nmh42nZD",
      "execution_count": null,
      "outputs": []
    },
    {
      "cell_type": "code",
      "source": [
        "df[df['ts_accepted_at_first'].notnull()][\"contact_channel_first\"].value_counts().plot(kind=\"bar\")\n",
        "\n",
        "plt.ylabel(\"times\")"
      ],
      "metadata": {
        "colab": {
          "base_uri": "https://localhost:8080/",
          "height": 526
        },
        "id": "YpZzica2Slye",
        "outputId": "0b9c101a-f965-4ec4-8a96-29ebab136724"
      },
      "id": "YpZzica2Slye",
      "execution_count": 110,
      "outputs": [
        {
          "output_type": "execute_result",
          "data": {
            "text/plain": [
              "Text(0, 0.5, 'times')"
            ]
          },
          "metadata": {},
          "execution_count": 110
        },
        {
          "output_type": "display_data",
          "data": {
            "text/plain": [
              "<Figure size 640x480 with 1 Axes>"
            ],
            "image/png": "[encoded data removed]"
          },
          "metadata": {}
        }
      ]
    },
    {
      "cell_type": "code",
      "source": [
        "df[df['ts_accepted_at_first'].isnull()][\"contact_channel_first\"].value_counts().plot(kind=\"bar\")"
      ],
      "metadata": {
        "colab": {
          "base_uri": "https://localhost:8080/",
          "height": 514
        },
        "id": "aDicoVMYSl1H",
        "outputId": "8829510f-f231-4299-c393-e2189b45b0cb"
      },
      "id": "aDicoVMYSl1H",
      "execution_count": 90,
      "outputs": [
        {
          "output_type": "execute_result",
          "data": {
            "text/plain": [
              "<Axes: >"
            ]
          },
          "metadata": {},
          "execution_count": 90
        },
        {
          "output_type": "display_data",
          "data": {
            "text/plain": [
              "<Figure size 640x480 with 1 Axes>"
            ],
            "image/png": "[encoded data removed]"
          },
          "metadata": {}
        }
      ]
    },
    {
      "cell_type": "code",
      "source": [],
      "metadata": {
        "id": "Ioc0jTzb21iJ"
      },
      "id": "Ioc0jTzb21iJ",
      "execution_count": 90,
      "outputs": []
    },
    {
      "cell_type": "code",
      "source": [],
      "metadata": {
        "id": "rX9_88AR22BM"
      },
      "id": "rX9_88AR22BM",
      "execution_count": 90,
      "outputs": []
    },
    {
      "cell_type": "code",
      "source": [],
      "metadata": {
        "id": "ehNkiEfF22bf"
      },
      "id": "ehNkiEfF22bf",
      "execution_count": null,
      "outputs": []
    },
    {
      "cell_type": "code",
      "source": [
        "df[df['ts_accepted_at_first'].notnull()][\"guest_user_stage_first\"].value_counts()"
      ],
      "metadata": {
        "colab": {
          "base_uri": "https://localhost:8080/"
        },
        "id": "PlZfZsb0S-Jl",
        "outputId": "9de128a5-b974-42b7-e325-b11802d7897f"
      },
      "id": "PlZfZsb0S-Jl",
      "execution_count": 95,
      "outputs": [
        {
          "output_type": "execute_result",
          "data": {
            "text/plain": [
              "new            8631\n",
              "past_booker    7766\n",
              "-unknown-        18\n",
              "Name: guest_user_stage_first, dtype: int64"
            ]
          },
          "metadata": {},
          "execution_count": 95
        }
      ]
    },
    {
      "cell_type": "code",
      "source": [
        "df1[\"listing_neighborhood\"].value_counts()"
      ],
      "metadata": {
        "colab": {
          "base_uri": "https://localhost:8080/"
        },
        "id": "sS1Vqn-2S-L6",
        "outputId": "3bed1c86-56c2-432e-911c-3393de2c26ad"
      },
      "id": "sS1Vqn-2S-L6",
      "execution_count": 97,
      "outputs": [
        {
          "output_type": "execute_result",
          "data": {
            "text/plain": [
              "-unknown-          6221\n",
              "Copacabana         2531\n",
              "Ipanema            1041\n",
              "Barra da Tijuca     593\n",
              "Leblon              458\n",
              "                   ... \n",
              "Vila da Penha         1\n",
              "Guadalupe             1\n",
              "Vigário Geral         1\n",
              "Abolição              1\n",
              "Parada de Lucas       1\n",
              "Name: listing_neighborhood, Length: 68, dtype: int64"
            ]
          },
          "metadata": {},
          "execution_count": 97
        }
      ]
    },
    {
      "cell_type": "code",
      "source": [
        "df[df['ts_accepted_at_first'].isnull()][\"guest_user_stage_first\"].value_counts()"
      ],
      "metadata": {
        "colab": {
          "base_uri": "https://localhost:8080/"
        },
        "id": "q5pZudrv2dD7",
        "outputId": "826b2470-2a9c-4363-bcd2-82e9a2f3a52a"
      },
      "id": "q5pZudrv2dD7",
      "execution_count": 9,
      "outputs": [
        {
          "output_type": "execute_result",
          "data": {
            "text/plain": [
              "new            7274\n",
              "past_booker    4181\n",
              "-unknown-        17\n",
              "Name: guest_user_stage_first, dtype: int64"
            ]
          },
          "metadata": {},
          "execution_count": 9
        }
      ]
    }
  ],
  "metadata": {
    "kernelspec": {
      "display_name": "Python 3 (ipykernel)",
      "language": "python",
      "name": "python3"
    },
    "language_info": {
      "codemirror_mode": {
        "name": "ipython",
        "version": 3
      },
      "file_extension": ".py",
      "mimetype": "text/x-python",
      "name": "python",
      "nbconvert_exporter": "python",
      "pygments_lexer": "ipython3",
      "version": "3.10.5"
    },
    "colab": {
      "provenance": [],
      "include_colab_link": true
    }
  },
  "nbformat": 4,
  "nbformat_minor": 5
}